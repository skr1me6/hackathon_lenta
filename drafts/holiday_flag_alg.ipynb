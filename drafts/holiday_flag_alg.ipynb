{
  "nbformat": 4,
  "nbformat_minor": 0,
  "metadata": {
    "colab": {
      "provenance": []
    },
    "kernelspec": {
      "name": "python3",
      "display_name": "Python 3"
    },
    "language_info": {
      "name": "python"
    }
  },
  "cells": [
    {
      "cell_type": "code",
      "execution_count": null,
      "metadata": {
        "id": "EmZBePJszpuv"
      },
      "outputs": [],
      "source": [
        "holiday_dict = {1:[i for i in range(1,10)],\n",
        "2:[23],\n",
        "3:[8],\n",
        "5:[1,9],\n",
        "6:[12],\n",
        "11:[4],\n",
        "12:[31]}"
      ]
    },
    {
      "cell_type": "code",
      "source": [
        "def set_flag_holiday(row, holiday_dict):\n",
        "    '''\n",
        "    Функция размечает даты - праздник / не праздник\n",
        "    :param row: Таблица\n",
        "    :param holiday_dct: Словарь месяц:[число(1),...,число(i)]\n",
        "    '''\n",
        "\n",
        "    month = row['month']\n",
        "    day = row['date'].day\n",
        "    if month in holiday_dict and day in holiday_dict[month]:\n",
        "        return 1\n",
        "    return 0\n",
        "\n"
      ],
      "metadata": {
        "id": "6WkmpwpszuV9"
      },
      "execution_count": null,
      "outputs": []
    },
    {
      "cell_type": "code",
      "source": [
        "your_data['holiday'] = your_data.apply(lambda row: set_flag_holiday(row, holiday_dict), axis=1)\n"
      ],
      "metadata": {
        "id": "CJy-ZIVgzuX_"
      },
      "execution_count": null,
      "outputs": []
    }
  ]
}
