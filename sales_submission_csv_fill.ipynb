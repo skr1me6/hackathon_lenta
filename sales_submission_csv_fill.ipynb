{
  "nbformat": 4,
  "nbformat_minor": 0,
  "metadata": {
    "colab": {
      "provenance": []
    },
    "kernelspec": {
      "name": "python3",
      "display_name": "Python 3"
    },
    "language_info": {
      "name": "python"
    }
  },
  "cells": [
    {
      "cell_type": "markdown",
      "source": [
        "# Заполнение sales_submission.csv"
      ],
      "metadata": {
        "id": "W2shdnbbuhxr"
      }
    },
    {
      "cell_type": "code",
      "source": [
        "!pip install catboost"
      ],
      "metadata": {
        "colab": {
          "base_uri": "https://localhost:8080/"
        },
        "id": "vELeX1Fiu-ju",
        "outputId": "b9ff48f9-ed43-4328-9b2b-bcbdd0377ba7"
      },
      "execution_count": 1,
      "outputs": [
        {
          "output_type": "stream",
          "name": "stdout",
          "text": [
            "Requirement already satisfied: catboost in /usr/local/lib/python3.10/dist-packages (1.2.2)\n",
            "Requirement already satisfied: graphviz in /usr/local/lib/python3.10/dist-packages (from catboost) (0.20.1)\n",
            "Requirement already satisfied: matplotlib in /usr/local/lib/python3.10/dist-packages (from catboost) (3.7.1)\n",
            "Requirement already satisfied: numpy>=1.16.0 in /usr/local/lib/python3.10/dist-packages (from catboost) (1.23.5)\n",
            "Requirement already satisfied: pandas>=0.24 in /usr/local/lib/python3.10/dist-packages (from catboost) (1.5.3)\n",
            "Requirement already satisfied: scipy in /usr/local/lib/python3.10/dist-packages (from catboost) (1.11.3)\n",
            "Requirement already satisfied: plotly in /usr/local/lib/python3.10/dist-packages (from catboost) (5.15.0)\n",
            "Requirement already satisfied: six in /usr/local/lib/python3.10/dist-packages (from catboost) (1.16.0)\n",
            "Requirement already satisfied: python-dateutil>=2.8.1 in /usr/local/lib/python3.10/dist-packages (from pandas>=0.24->catboost) (2.8.2)\n",
            "Requirement already satisfied: pytz>=2020.1 in /usr/local/lib/python3.10/dist-packages (from pandas>=0.24->catboost) (2023.3.post1)\n",
            "Requirement already satisfied: contourpy>=1.0.1 in /usr/local/lib/python3.10/dist-packages (from matplotlib->catboost) (1.1.1)\n",
            "Requirement already satisfied: cycler>=0.10 in /usr/local/lib/python3.10/dist-packages (from matplotlib->catboost) (0.12.0)\n",
            "Requirement already satisfied: fonttools>=4.22.0 in /usr/local/lib/python3.10/dist-packages (from matplotlib->catboost) (4.43.0)\n",
            "Requirement already satisfied: kiwisolver>=1.0.1 in /usr/local/lib/python3.10/dist-packages (from matplotlib->catboost) (1.4.5)\n",
            "Requirement already satisfied: packaging>=20.0 in /usr/local/lib/python3.10/dist-packages (from matplotlib->catboost) (23.2)\n",
            "Requirement already satisfied: pillow>=6.2.0 in /usr/local/lib/python3.10/dist-packages (from matplotlib->catboost) (9.4.0)\n",
            "Requirement already satisfied: pyparsing>=2.3.1 in /usr/local/lib/python3.10/dist-packages (from matplotlib->catboost) (3.1.1)\n",
            "Requirement already satisfied: tenacity>=6.2.0 in /usr/local/lib/python3.10/dist-packages (from plotly->catboost) (8.2.3)\n"
          ]
        }
      ]
    },
    {
      "cell_type": "code",
      "execution_count": 2,
      "metadata": {
        "id": "F2LoqNvbRrDu",
        "colab": {
          "base_uri": "https://localhost:8080/"
        },
        "outputId": "03c99f09-3cb7-4c66-eab0-66205c6356d4"
      },
      "outputs": [
        {
          "output_type": "stream",
          "name": "stdout",
          "text": [
            "Drive already mounted at /content/drive; to attempt to forcibly remount, call drive.mount(\"/content/drive\", force_remount=True).\n"
          ]
        }
      ],
      "source": [
        "from google.colab import drive\n",
        "drive.mount('/content/drive')"
      ]
    },
    {
      "cell_type": "code",
      "source": [
        "import numpy as np\n",
        "import pandas as pd\n",
        "\n",
        "import catboost\n",
        "from catboost import CatBoostRegressor\n",
        "\n",
        "import pickle\n",
        "\n",
        "from tqdm import tqdm"
      ],
      "metadata": {
        "id": "DTa7q4_Mt40k"
      },
      "execution_count": 3,
      "outputs": []
    },
    {
      "cell_type": "code",
      "source": [
        "pd.options.display.float_format = '{:.3f}'.format\n",
        "pd.set_option('display.max_columns', None)"
      ],
      "metadata": {
        "id": "gMUCXcqDyCkr"
      },
      "execution_count": 4,
      "outputs": []
    },
    {
      "cell_type": "markdown",
      "source": [
        "## Загрузка обработанных данных, модели и sales_submission"
      ],
      "metadata": {
        "id": "lDTsLZXwjlJQ"
      }
    },
    {
      "cell_type": "code",
      "source": [
        "with open('/content/drive/MyDrive/hackathon_lenta/df_train.pkl', 'rb') as df_train:\n",
        "    df_train = pickle.load(df_train)"
      ],
      "metadata": {
        "id": "fxdoeE5lKCsE"
      },
      "execution_count": 5,
      "outputs": []
    },
    {
      "cell_type": "code",
      "source": [
        "with open('/content/drive/MyDrive/hackathon_lenta/df_test.pkl', 'rb') as df_test:\n",
        "    df_test = pickle.load(df_test)"
      ],
      "metadata": {
        "id": "6k4_dApbvlG8"
      },
      "execution_count": 6,
      "outputs": []
    },
    {
      "cell_type": "code",
      "source": [
        "with open('/content/drive/MyDrive/hackathon_lenta/catboost_model_40.0.pkl', 'rb') as m:\n",
        "    model = pickle.load(m)"
      ],
      "metadata": {
        "id": "ZXhRL9sAuz8G"
      },
      "execution_count": 7,
      "outputs": []
    },
    {
      "cell_type": "code",
      "source": [
        "sales_submission = pd.read_csv('/content/drive/MyDrive/hackathon_lenta/sales_submission.csv')"
      ],
      "metadata": {
        "id": "KsTgmvrrvMWV"
      },
      "execution_count": 8,
      "outputs": []
    },
    {
      "cell_type": "code",
      "source": [
        "sales_submission_original = sales_submission.copy()"
      ],
      "metadata": {
        "id": "kKOBkfGqlets"
      },
      "execution_count": 9,
      "outputs": []
    },
    {
      "cell_type": "code",
      "source": [
        "sales_submission.head()"
      ],
      "metadata": {
        "colab": {
          "base_uri": "https://localhost:8080/",
          "height": 206
        },
        "id": "VGx6Mkh7xeOX",
        "outputId": "98f14140-e1b9-418a-ec41-9abc53bbf2fc"
      },
      "execution_count": 10,
      "outputs": [
        {
          "output_type": "execute_result",
          "data": {
            "text/plain": [
              "                              st_id                         pr_sku_id  \\\n",
              "0  16a5cdae362b8d27a1d8f8c7b78b4330  0045ebdb1069ff4b3dd3efe628c39cd3   \n",
              "1  16a5cdae362b8d27a1d8f8c7b78b4330  00661699f543753ec7e911a64b9fd2f6   \n",
              "2  16a5cdae362b8d27a1d8f8c7b78b4330  0094042bfeae507dc7f62acc8e5ed03a   \n",
              "3  16a5cdae362b8d27a1d8f8c7b78b4330  0169529ff660adcac9b7e354e0c4b882   \n",
              "4  16a5cdae362b8d27a1d8f8c7b78b4330  01e4734745e97e52d3213449e1a05dd7   \n",
              "\n",
              "         date  target  \n",
              "0  2023-07-20       0  \n",
              "1  2023-07-20       0  \n",
              "2  2023-07-20       0  \n",
              "3  2023-07-20       0  \n",
              "4  2023-07-20       0  "
            ],
            "text/html": [
              "\n",
              "  <div id=\"df-28fb8911-7981-4969-bad6-ddbded828ac3\" class=\"colab-df-container\">\n",
              "    <div>\n",
              "<style scoped>\n",
              "    .dataframe tbody tr th:only-of-type {\n",
              "        vertical-align: middle;\n",
              "    }\n",
              "\n",
              "    .dataframe tbody tr th {\n",
              "        vertical-align: top;\n",
              "    }\n",
              "\n",
              "    .dataframe thead th {\n",
              "        text-align: right;\n",
              "    }\n",
              "</style>\n",
              "<table border=\"1\" class=\"dataframe\">\n",
              "  <thead>\n",
              "    <tr style=\"text-align: right;\">\n",
              "      <th></th>\n",
              "      <th>st_id</th>\n",
              "      <th>pr_sku_id</th>\n",
              "      <th>date</th>\n",
              "      <th>target</th>\n",
              "    </tr>\n",
              "  </thead>\n",
              "  <tbody>\n",
              "    <tr>\n",
              "      <th>0</th>\n",
              "      <td>16a5cdae362b8d27a1d8f8c7b78b4330</td>\n",
              "      <td>0045ebdb1069ff4b3dd3efe628c39cd3</td>\n",
              "      <td>2023-07-20</td>\n",
              "      <td>0</td>\n",
              "    </tr>\n",
              "    <tr>\n",
              "      <th>1</th>\n",
              "      <td>16a5cdae362b8d27a1d8f8c7b78b4330</td>\n",
              "      <td>00661699f543753ec7e911a64b9fd2f6</td>\n",
              "      <td>2023-07-20</td>\n",
              "      <td>0</td>\n",
              "    </tr>\n",
              "    <tr>\n",
              "      <th>2</th>\n",
              "      <td>16a5cdae362b8d27a1d8f8c7b78b4330</td>\n",
              "      <td>0094042bfeae507dc7f62acc8e5ed03a</td>\n",
              "      <td>2023-07-20</td>\n",
              "      <td>0</td>\n",
              "    </tr>\n",
              "    <tr>\n",
              "      <th>3</th>\n",
              "      <td>16a5cdae362b8d27a1d8f8c7b78b4330</td>\n",
              "      <td>0169529ff660adcac9b7e354e0c4b882</td>\n",
              "      <td>2023-07-20</td>\n",
              "      <td>0</td>\n",
              "    </tr>\n",
              "    <tr>\n",
              "      <th>4</th>\n",
              "      <td>16a5cdae362b8d27a1d8f8c7b78b4330</td>\n",
              "      <td>01e4734745e97e52d3213449e1a05dd7</td>\n",
              "      <td>2023-07-20</td>\n",
              "      <td>0</td>\n",
              "    </tr>\n",
              "  </tbody>\n",
              "</table>\n",
              "</div>\n",
              "    <div class=\"colab-df-buttons\">\n",
              "\n",
              "  <div class=\"colab-df-container\">\n",
              "    <button class=\"colab-df-convert\" onclick=\"convertToInteractive('df-28fb8911-7981-4969-bad6-ddbded828ac3')\"\n",
              "            title=\"Convert this dataframe to an interactive table.\"\n",
              "            style=\"display:none;\">\n",
              "\n",
              "  <svg xmlns=\"http://www.w3.org/2000/svg\" height=\"24px\" viewBox=\"0 -960 960 960\">\n",
              "    <path d=\"M120-120v-720h720v720H120Zm60-500h600v-160H180v160Zm220 220h160v-160H400v160Zm0 220h160v-160H400v160ZM180-400h160v-160H180v160Zm440 0h160v-160H620v160ZM180-180h160v-160H180v160Zm440 0h160v-160H620v160Z\"/>\n",
              "  </svg>\n",
              "    </button>\n",
              "\n",
              "  <style>\n",
              "    .colab-df-container {\n",
              "      display:flex;\n",
              "      gap: 12px;\n",
              "    }\n",
              "\n",
              "    .colab-df-convert {\n",
              "      background-color: #E8F0FE;\n",
              "      border: none;\n",
              "      border-radius: 50%;\n",
              "      cursor: pointer;\n",
              "      display: none;\n",
              "      fill: #1967D2;\n",
              "      height: 32px;\n",
              "      padding: 0 0 0 0;\n",
              "      width: 32px;\n",
              "    }\n",
              "\n",
              "    .colab-df-convert:hover {\n",
              "      background-color: #E2EBFA;\n",
              "      box-shadow: 0px 1px 2px rgba(60, 64, 67, 0.3), 0px 1px 3px 1px rgba(60, 64, 67, 0.15);\n",
              "      fill: #174EA6;\n",
              "    }\n",
              "\n",
              "    .colab-df-buttons div {\n",
              "      margin-bottom: 4px;\n",
              "    }\n",
              "\n",
              "    [theme=dark] .colab-df-convert {\n",
              "      background-color: #3B4455;\n",
              "      fill: #D2E3FC;\n",
              "    }\n",
              "\n",
              "    [theme=dark] .colab-df-convert:hover {\n",
              "      background-color: #434B5C;\n",
              "      box-shadow: 0px 1px 3px 1px rgba(0, 0, 0, 0.15);\n",
              "      filter: drop-shadow(0px 1px 2px rgba(0, 0, 0, 0.3));\n",
              "      fill: #FFFFFF;\n",
              "    }\n",
              "  </style>\n",
              "\n",
              "    <script>\n",
              "      const buttonEl =\n",
              "        document.querySelector('#df-28fb8911-7981-4969-bad6-ddbded828ac3 button.colab-df-convert');\n",
              "      buttonEl.style.display =\n",
              "        google.colab.kernel.accessAllowed ? 'block' : 'none';\n",
              "\n",
              "      async function convertToInteractive(key) {\n",
              "        const element = document.querySelector('#df-28fb8911-7981-4969-bad6-ddbded828ac3');\n",
              "        const dataTable =\n",
              "          await google.colab.kernel.invokeFunction('convertToInteractive',\n",
              "                                                    [key], {});\n",
              "        if (!dataTable) return;\n",
              "\n",
              "        const docLinkHtml = 'Like what you see? Visit the ' +\n",
              "          '<a target=\"_blank\" href=https://colab.research.google.com/notebooks/data_table.ipynb>data table notebook</a>'\n",
              "          + ' to learn more about interactive tables.';\n",
              "        element.innerHTML = '';\n",
              "        dataTable['output_type'] = 'display_data';\n",
              "        await google.colab.output.renderOutput(dataTable, element);\n",
              "        const docLink = document.createElement('div');\n",
              "        docLink.innerHTML = docLinkHtml;\n",
              "        element.appendChild(docLink);\n",
              "      }\n",
              "    </script>\n",
              "  </div>\n",
              "\n",
              "\n",
              "<div id=\"df-331746ca-4c1c-47b9-b7c3-4274a84489d5\">\n",
              "  <button class=\"colab-df-quickchart\" onclick=\"quickchart('df-331746ca-4c1c-47b9-b7c3-4274a84489d5')\"\n",
              "            title=\"Suggest charts.\"\n",
              "            style=\"display:none;\">\n",
              "\n",
              "<svg xmlns=\"http://www.w3.org/2000/svg\" height=\"24px\"viewBox=\"0 0 24 24\"\n",
              "     width=\"24px\">\n",
              "    <g>\n",
              "        <path d=\"M19 3H5c-1.1 0-2 .9-2 2v14c0 1.1.9 2 2 2h14c1.1 0 2-.9 2-2V5c0-1.1-.9-2-2-2zM9 17H7v-7h2v7zm4 0h-2V7h2v10zm4 0h-2v-4h2v4z\"/>\n",
              "    </g>\n",
              "</svg>\n",
              "  </button>\n",
              "\n",
              "<style>\n",
              "  .colab-df-quickchart {\n",
              "      --bg-color: #E8F0FE;\n",
              "      --fill-color: #1967D2;\n",
              "      --hover-bg-color: #E2EBFA;\n",
              "      --hover-fill-color: #174EA6;\n",
              "      --disabled-fill-color: #AAA;\n",
              "      --disabled-bg-color: #DDD;\n",
              "  }\n",
              "\n",
              "  [theme=dark] .colab-df-quickchart {\n",
              "      --bg-color: #3B4455;\n",
              "      --fill-color: #D2E3FC;\n",
              "      --hover-bg-color: #434B5C;\n",
              "      --hover-fill-color: #FFFFFF;\n",
              "      --disabled-bg-color: #3B4455;\n",
              "      --disabled-fill-color: #666;\n",
              "  }\n",
              "\n",
              "  .colab-df-quickchart {\n",
              "    background-color: var(--bg-color);\n",
              "    border: none;\n",
              "    border-radius: 50%;\n",
              "    cursor: pointer;\n",
              "    display: none;\n",
              "    fill: var(--fill-color);\n",
              "    height: 32px;\n",
              "    padding: 0;\n",
              "    width: 32px;\n",
              "  }\n",
              "\n",
              "  .colab-df-quickchart:hover {\n",
              "    background-color: var(--hover-bg-color);\n",
              "    box-shadow: 0 1px 2px rgba(60, 64, 67, 0.3), 0 1px 3px 1px rgba(60, 64, 67, 0.15);\n",
              "    fill: var(--button-hover-fill-color);\n",
              "  }\n",
              "\n",
              "  .colab-df-quickchart-complete:disabled,\n",
              "  .colab-df-quickchart-complete:disabled:hover {\n",
              "    background-color: var(--disabled-bg-color);\n",
              "    fill: var(--disabled-fill-color);\n",
              "    box-shadow: none;\n",
              "  }\n",
              "\n",
              "  .colab-df-spinner {\n",
              "    border: 2px solid var(--fill-color);\n",
              "    border-color: transparent;\n",
              "    border-bottom-color: var(--fill-color);\n",
              "    animation:\n",
              "      spin 1s steps(1) infinite;\n",
              "  }\n",
              "\n",
              "  @keyframes spin {\n",
              "    0% {\n",
              "      border-color: transparent;\n",
              "      border-bottom-color: var(--fill-color);\n",
              "      border-left-color: var(--fill-color);\n",
              "    }\n",
              "    20% {\n",
              "      border-color: transparent;\n",
              "      border-left-color: var(--fill-color);\n",
              "      border-top-color: var(--fill-color);\n",
              "    }\n",
              "    30% {\n",
              "      border-color: transparent;\n",
              "      border-left-color: var(--fill-color);\n",
              "      border-top-color: var(--fill-color);\n",
              "      border-right-color: var(--fill-color);\n",
              "    }\n",
              "    40% {\n",
              "      border-color: transparent;\n",
              "      border-right-color: var(--fill-color);\n",
              "      border-top-color: var(--fill-color);\n",
              "    }\n",
              "    60% {\n",
              "      border-color: transparent;\n",
              "      border-right-color: var(--fill-color);\n",
              "    }\n",
              "    80% {\n",
              "      border-color: transparent;\n",
              "      border-right-color: var(--fill-color);\n",
              "      border-bottom-color: var(--fill-color);\n",
              "    }\n",
              "    90% {\n",
              "      border-color: transparent;\n",
              "      border-bottom-color: var(--fill-color);\n",
              "    }\n",
              "  }\n",
              "</style>\n",
              "\n",
              "  <script>\n",
              "    async function quickchart(key) {\n",
              "      const quickchartButtonEl =\n",
              "        document.querySelector('#' + key + ' button');\n",
              "      quickchartButtonEl.disabled = true;  // To prevent multiple clicks.\n",
              "      quickchartButtonEl.classList.add('colab-df-spinner');\n",
              "      try {\n",
              "        const charts = await google.colab.kernel.invokeFunction(\n",
              "            'suggestCharts', [key], {});\n",
              "      } catch (error) {\n",
              "        console.error('Error during call to suggestCharts:', error);\n",
              "      }\n",
              "      quickchartButtonEl.classList.remove('colab-df-spinner');\n",
              "      quickchartButtonEl.classList.add('colab-df-quickchart-complete');\n",
              "    }\n",
              "    (() => {\n",
              "      let quickchartButtonEl =\n",
              "        document.querySelector('#df-331746ca-4c1c-47b9-b7c3-4274a84489d5 button');\n",
              "      quickchartButtonEl.style.display =\n",
              "        google.colab.kernel.accessAllowed ? 'block' : 'none';\n",
              "    })();\n",
              "  </script>\n",
              "</div>\n",
              "    </div>\n",
              "  </div>\n"
            ]
          },
          "metadata": {},
          "execution_count": 10
        }
      ]
    },
    {
      "cell_type": "markdown",
      "source": [
        "## Создание признаков для предсказания"
      ],
      "metadata": {
        "id": "MXkEt62EjyWg"
      }
    },
    {
      "cell_type": "code",
      "source": [
        "def make_features(data, cos_sin_columns = ['month','day_of_week','day'], holiday_dict = {1:[i for i in range(1,10)],\n",
        "                                                                                         2:[23],\n",
        "                                                                                         3:[8],\n",
        "                                                                                         5:[1,9],\n",
        "                                                                                         6:[12],\n",
        "                                                                                         11:[4],\n",
        "                                                                                         12:[31]}):\n",
        "    data['date'] = pd.to_datetime(data['date'])\n",
        "    data['month'] = data['date'].dt.month\n",
        "\n",
        "    #  столбец 'season' с указанием времени года\n",
        "    seasons = {\n",
        "        1: 0,\n",
        "        2: 0,\n",
        "        3: 1,\n",
        "        4: 1,\n",
        "        5: 1,\n",
        "        6: 2,\n",
        "        7: 2,\n",
        "        8: 2,\n",
        "        9: 3,\n",
        "        10: 3,\n",
        "        11: 3,\n",
        "        12: 0\n",
        "    }\n",
        "\n",
        "    data['season'] = data['month'].map(seasons)\n",
        "    data['day'] = data['date'].dt.day\n",
        "    data['day_of_week'] = data['date'].dt.dayofweek\n",
        "\n",
        "    def set_flag_holiday(row, holiday_dict):\n",
        "        '''\n",
        "        Функция размечает даты - праздник / не праздник\n",
        "        :param row: Таблица\n",
        "        :param holiday_dct: Словарь месяц:[число(1),...,число(i)]\n",
        "        '''\n",
        "\n",
        "        month = row['month']\n",
        "        day = row['date'].day\n",
        "        weekday = row['day_of_week']\n",
        "        if (month in holiday_dict and day in holiday_dict[month]):\n",
        "            return 1\n",
        "        return 0\n",
        "\n",
        "\n",
        "    data['holiday'] = data.apply(lambda row: set_flag_holiday(row, holiday_dict), axis=1)\n",
        "\n",
        "    def after_holidays_n_days(row, n_before=14):\n",
        "        if row['holiday'] == 1:\n",
        "            return 1\n",
        "        for i in range(1, n_before + 1):\n",
        "            if row.name - i < 0:\n",
        "                break\n",
        "            if unique_rec.at[row.name - i, 'holiday'] == 1:\n",
        "                return 1\n",
        "        return 0\n",
        "\n",
        "    def before_holidays_n_days(row, n_after=7):\n",
        "        if row['holiday'] == 1:\n",
        "            return 1\n",
        "        for i in range(1, n_after + 1):\n",
        "            if row.name + i >= len(unique_rec):\n",
        "                break\n",
        "            if unique_rec.at[row.name + i, 'holiday'] == 1:\n",
        "                return 1\n",
        "        return 0\n",
        "\n",
        "    data = data.sort_values(by='date')\n",
        "    tmp=data.copy()\n",
        "    unique_rec = data.drop_duplicates(subset=['date']).copy()\n",
        "    unique_rec.reset_index(drop=False,inplace=True)\n",
        "    unique_rec['before_holidays_n_days'] = unique_rec.apply(lambda row: before_holidays_n_days(row), axis=1)\n",
        "    unique_rec['after_holidays_n_days'] = unique_rec.apply(lambda row: after_holidays_n_days(row), axis=1)\n",
        "    before_after_day = unique_rec.loc[:,['date','before_holidays_n_days','after_holidays_n_days']]\n",
        "    data = data.merge(before_after_day, on='date', how='left')\n",
        "\n",
        "\n",
        "    def cos_sin_categorise(df,cos_column_name,sin_column_name,column_to_categorise):\n",
        "        \"\"\"\n",
        "        Применяет cos-sin тригонометрическую категоризацию\n",
        "\n",
        "        :param data: DataFrame содержащий данные\n",
        "        :param cos_column_name: Название будущей колонки с cos\n",
        "        :param sin_column_name: Название будущей колонки с sin\n",
        "        :param column_to_categorise: Назване колонки, которое хотим категоризовать\n",
        "        \"\"\"\n",
        "        df[cos_column_name] = np.cos((2*np.pi *df[column_to_categorise])/df[column_to_categorise].nunique())\n",
        "        df[sin_column_name] = np.sin((2*np.pi *df[column_to_categorise])/df[column_to_categorise].nunique())\n",
        "\n",
        "    for i in cos_sin_columns:\n",
        "        cos_sin_categorise(data,f'cos_{i}',f'sin_{i}',i)\n",
        "\n",
        "    return data"
      ],
      "metadata": {
        "id": "PUgOMkP61RHU"
      },
      "execution_count": 11,
      "outputs": []
    },
    {
      "cell_type": "code",
      "source": [
        "sales_submission = make_features(sales_submission)"
      ],
      "metadata": {
        "id": "svCNaYM-4ASi"
      },
      "execution_count": 12,
      "outputs": []
    },
    {
      "cell_type": "markdown",
      "source": [
        "Возьмем pr_uom_id из df_train."
      ],
      "metadata": {
        "id": "iUU-DbDjMgOc"
      }
    },
    {
      "cell_type": "markdown",
      "source": [
        "Примем, что если у нас нет значений значит продукт продается по категории 1."
      ],
      "metadata": {
        "id": "kpbfrUwcQdAh"
      }
    },
    {
      "cell_type": "code",
      "source": [
        "uom_dict = df_train.drop_duplicates(subset=['pr_sku_id']).set_index('pr_sku_id')['pr_uom_id'].to_dict()"
      ],
      "metadata": {
        "id": "K5glcv5gOyMV"
      },
      "execution_count": 13,
      "outputs": []
    },
    {
      "cell_type": "code",
      "source": [
        "sales_submission['pr_uom_id'] = sales_submission['pr_sku_id'].map(uom_dict).fillna(np.nan)"
      ],
      "metadata": {
        "id": "UfXLtCqmO4Nt"
      },
      "execution_count": 14,
      "outputs": []
    },
    {
      "cell_type": "code",
      "source": [
        "sales_submission['pr_uom_id'].isna().sum()"
      ],
      "metadata": {
        "colab": {
          "base_uri": "https://localhost:8080/"
        },
        "id": "wPP3HMQ5O9Am",
        "outputId": "7b7c3bb4-8cd6-45dd-c083-46a61014517f"
      },
      "execution_count": 15,
      "outputs": [
        {
          "output_type": "execute_result",
          "data": {
            "text/plain": [
              "2702"
            ]
          },
          "metadata": {},
          "execution_count": 15
        }
      ]
    },
    {
      "cell_type": "code",
      "source": [
        "sales_submission['pr_uom_id'] = sales_submission['pr_uom_id'].fillna(1)"
      ],
      "metadata": {
        "id": "PwoJ-igEQDst"
      },
      "execution_count": 16,
      "outputs": []
    },
    {
      "cell_type": "code",
      "source": [
        "sales_submission['pr_uom_id'].isna().sum()"
      ],
      "metadata": {
        "colab": {
          "base_uri": "https://localhost:8080/"
        },
        "id": "H9m4SIYLQ_vw",
        "outputId": "a5fda1aa-6e25-42c1-f091-560cbbbeb728"
      },
      "execution_count": 17,
      "outputs": [
        {
          "output_type": "execute_result",
          "data": {
            "text/plain": [
              "0"
            ]
          },
          "metadata": {},
          "execution_count": 17
        }
      ]
    },
    {
      "cell_type": "code",
      "source": [
        "sales_submission['pr_uom_id'] = sales_submission['pr_uom_id'].astype('int')"
      ],
      "metadata": {
        "id": "KgBXtaaUWPxq"
      },
      "execution_count": 18,
      "outputs": []
    },
    {
      "cell_type": "markdown",
      "source": [
        "Предположим, что все товары продаются без промо."
      ],
      "metadata": {
        "id": "6W-TkfNPJfx-"
      }
    },
    {
      "cell_type": "code",
      "source": [
        "sales_submission['pr_sales_type_id'] = 0"
      ],
      "metadata": {
        "id": "aziVeGTAI2Ts"
      },
      "execution_count": 19,
      "outputs": []
    },
    {
      "cell_type": "markdown",
      "source": [
        "Возьмем те лаги которые возможно из df_test."
      ],
      "metadata": {
        "id": "V6rifva8j6-p"
      }
    },
    {
      "cell_type": "code",
      "source": [
        "def compute_lags_rolling_means(df_test, sales_submission):\n",
        "\n",
        "    df_test = df_test.sort_values(by='date').set_index(['st_id', 'pr_sku_id', 'date'])\n",
        "    sales_submission = sales_submission.sort_values(by='date').set_index(['st_id', 'pr_sku_id', 'date'])\n",
        "\n",
        "    combined = pd.concat([df_test, sales_submission], axis=0)\n",
        "\n",
        "    for lag in [1, 2, 7, 14]:\n",
        "        sales_submission['lag_{}_sales'.format(lag)] = combined['pr_sales_in_units'].groupby(level=[0, 1]).shift(lag).loc[sales_submission.index]\n",
        "\n",
        "    for window in [2, 7, 14]:\n",
        "        sales_submission['rolling_mean_{}'.format(window)] = combined['pr_sales_in_units'].groupby(level=[0, 1]).rolling(window=window).mean().reset_index(level=[0, 1], drop=True).loc[sales_submission.index]\n",
        "\n",
        "    sales_submission = sales_submission.fillna(0).reset_index()\n",
        "\n",
        "    return sales_submission"
      ],
      "metadata": {
        "id": "zCd3wGqrAjYh"
      },
      "execution_count": 20,
      "outputs": []
    },
    {
      "cell_type": "code",
      "source": [
        "sales_submission = compute_lags_rolling_means(df_test, sales_submission)"
      ],
      "metadata": {
        "id": "62RrnSTs-3om"
      },
      "execution_count": 21,
      "outputs": []
    },
    {
      "cell_type": "markdown",
      "source": [
        "Заполним признак выбросов.\n",
        "\n"
      ],
      "metadata": {
        "id": "AXeZCfUhkBJD"
      }
    },
    {
      "cell_type": "code",
      "source": [
        "sales_submission['is_outlier'] = 0"
      ],
      "metadata": {
        "id": "l0C8r48JL4R2"
      },
      "execution_count": 22,
      "outputs": []
    },
    {
      "cell_type": "markdown",
      "source": [
        "## Подготовка датафрейма к предсказанию"
      ],
      "metadata": {
        "id": "h1mijUc4kRYn"
      }
    },
    {
      "cell_type": "markdown",
      "source": [
        "Уберем ненужные признаки."
      ],
      "metadata": {
        "id": "MpXkR0_TkYUL"
      }
    },
    {
      "cell_type": "code",
      "source": [
        "sales_submission = sales_submission.drop(['month', 'day', 'day_of_week', 'target'], axis=1)"
      ],
      "metadata": {
        "id": "RUBMReTSRa6m"
      },
      "execution_count": 23,
      "outputs": []
    },
    {
      "cell_type": "markdown",
      "source": [
        "Приведем порядок признаков к тому, который был на обучении модели."
      ],
      "metadata": {
        "id": "Vn3vmZkmkbI6"
      }
    },
    {
      "cell_type": "code",
      "source": [
        "original_column_order = ['date',\n",
        "                         'st_id',\n",
        "                         'pr_sku_id',\n",
        "                         'holiday',\n",
        "                         'season',\n",
        "                         'cos_month',\n",
        "                         'sin_month',\n",
        "                         'cos_day_of_week',\n",
        "                         'sin_day_of_week',\n",
        "                         'cos_day',\n",
        "                         'sin_day',\n",
        "                         'before_holidays_n_days',\n",
        "                         'after_holidays_n_days',\n",
        "                         'pr_sales_type_id',\n",
        "                         'pr_uom_id',\n",
        "                         'lag_1_sales',\n",
        "                         'lag_2_sales',\n",
        "                         'lag_7_sales',\n",
        "                         'lag_14_sales',\n",
        "                         'rolling_mean_2',\n",
        "                         'rolling_mean_7',\n",
        "                         'rolling_mean_14',\n",
        "                         'is_outlier']\n",
        "\n",
        "sales_submission = sales_submission[original_column_order]"
      ],
      "metadata": {
        "id": "VM5Hm9IvOU2C"
      },
      "execution_count": 24,
      "outputs": []
    },
    {
      "cell_type": "markdown",
      "source": [
        "## Рекурсивное предсказание с заполнением lag и rolling_mean"
      ],
      "metadata": {
        "id": "nLn0fWiakjl6"
      }
    },
    {
      "cell_type": "code",
      "source": [
        "from tqdm import tqdm\n",
        "\n",
        "def recursive_forecasting(model, sales_submission):\n",
        "\n",
        "    sales_submission = sales_submission.sort_values(by=['st_id', 'pr_sku_id', 'date'])\n",
        "\n",
        "    temp_date = sales_submission['date'].copy()\n",
        "\n",
        "    sales_submission = sales_submission.drop('date', axis=1)\n",
        "\n",
        "    for (store, product), group in tqdm(sales_submission.groupby(['st_id', 'pr_sku_id']), desc=\"Processing store-product pairs\"):\n",
        "        for index, row in group.iterrows():\n",
        "\n",
        "            prediction = model.predict(row.dropna())\n",
        "\n",
        "            sales_submission.loc[index, 'target'] = prediction\n",
        "\n",
        "            next_idx = group.index.get_loc(index) + 1\n",
        "            if next_idx < len(group):\n",
        "                next_row_index = group.index[next_idx]\n",
        "\n",
        "                for lag in [1, 2, 7, 14]:\n",
        "                    if sales_submission.loc[next_row_index, 'lag_{}_sales'.format(lag)] == 0:\n",
        "                        shifted_value = sales_submission['target'].shift(lag)\n",
        "                        sales_submission.loc[next_row_index, 'lag_{}_sales'.format(lag)] = shifted_value[next_row_index] if next_row_index in shifted_value.index else 0\n",
        "\n",
        "                        sales_submission['lag_{}_sales'.format(lag)].fillna(0, inplace=True)\n",
        "\n",
        "                for window in [2, 7, 14]:\n",
        "                    if sales_submission.loc[next_row_index, 'rolling_mean_{}'.format(window)] == 0:\n",
        "                        rolling_value = sales_submission['target'].rolling(window=window).mean()\n",
        "                        sales_submission.loc[next_row_index, 'rolling_mean_{}'.format(window)] = rolling_value[next_row_index] if next_row_index in rolling_value.index else 0\n",
        "\n",
        "                        sales_submission['rolling_mean_{}'.format(window)].fillna(0, inplace=True)\n",
        "\n",
        "\n",
        "    sales_submission['date'] = temp_date\n",
        "    sales_submission['target'] = sales_submission['target'].apply(lambda x: max(0, x))\n",
        "\n",
        "    return sales_submission.reset_index()"
      ],
      "metadata": {
        "id": "lvGXk7o3WCc3"
      },
      "execution_count": 25,
      "outputs": []
    },
    {
      "cell_type": "code",
      "source": [
        "sales_submission_prediction = recursive_forecasting(model, sales_submission)"
      ],
      "metadata": {
        "colab": {
          "base_uri": "https://localhost:8080/"
        },
        "id": "gh3RnrvPE0lZ",
        "outputId": "90600d9e-d245-42b3-f1f0-1ae78499ebae"
      },
      "execution_count": 26,
      "outputs": [
        {
          "output_type": "stream",
          "name": "stderr",
          "text": [
            "Processing store-product pairs: 100%|██████████| 3121/3121 [08:32<00:00,  6.08it/s]\n"
          ]
        }
      ]
    },
    {
      "cell_type": "markdown",
      "source": [
        "## Выгрузка sales_submission"
      ],
      "metadata": {
        "id": "pUl_bvTzk11D"
      }
    },
    {
      "cell_type": "code",
      "source": [
        "sales_submission_prediction = sales_submission_prediction.drop(['holiday',\n",
        "                                                                'season',\n",
        "                                                                'cos_month',\n",
        "                                                                'sin_month',\n",
        "                                                                'cos_day_of_week',\n",
        "                                                                'sin_day_of_week',\n",
        "                                                                'cos_day',\n",
        "                                                                'sin_day',\n",
        "                                                                'before_holidays_n_days',\n",
        "                                                                'after_holidays_n_days',\n",
        "                                                                'pr_sales_type_id',\n",
        "                                                                'pr_uom_id',\n",
        "                                                                'lag_1_sales',\n",
        "                                                                'lag_2_sales',\n",
        "                                                                'lag_7_sales',\n",
        "                                                                'lag_14_sales',\n",
        "                                                                'rolling_mean_2',\n",
        "                                                                'rolling_mean_7',\n",
        "                                                                'rolling_mean_14',\n",
        "                                                                'is_outlier',\n",
        "                                                                'index'], axis=1)"
      ],
      "metadata": {
        "id": "V-laI_Ynk1cW"
      },
      "execution_count": 27,
      "outputs": []
    },
    {
      "cell_type": "code",
      "source": [
        "sales_submission_prediction.columns"
      ],
      "metadata": {
        "id": "ET2xZUiNjef9",
        "colab": {
          "base_uri": "https://localhost:8080/"
        },
        "outputId": "a21ef6fe-52f6-493c-e066-ae531dc977dc"
      },
      "execution_count": 28,
      "outputs": [
        {
          "output_type": "execute_result",
          "data": {
            "text/plain": [
              "Index(['st_id', 'pr_sku_id', 'target', 'date'], dtype='object')"
            ]
          },
          "metadata": {},
          "execution_count": 28
        }
      ]
    },
    {
      "cell_type": "code",
      "source": [
        "sales_submission_original.columns"
      ],
      "metadata": {
        "id": "INt0pfHGlZEi",
        "colab": {
          "base_uri": "https://localhost:8080/"
        },
        "outputId": "63e5df0c-06ff-4f98-cd74-f16e7b8d4f22"
      },
      "execution_count": 29,
      "outputs": [
        {
          "output_type": "execute_result",
          "data": {
            "text/plain": [
              "Index(['st_id', 'pr_sku_id', 'date', 'target'], dtype='object')"
            ]
          },
          "metadata": {},
          "execution_count": 29
        }
      ]
    },
    {
      "cell_type": "code",
      "source": [
        "sales_submission_prediction = sales_submission_prediction[['st_id', 'pr_sku_id', 'date', 'target']]"
      ],
      "metadata": {
        "id": "EZEkfW4WqqYa"
      },
      "execution_count": 30,
      "outputs": []
    },
    {
      "cell_type": "code",
      "source": [
        "sales_submission_prediction.head()"
      ],
      "metadata": {
        "id": "NFN_SMDjrZYr",
        "colab": {
          "base_uri": "https://localhost:8080/",
          "height": 206
        },
        "outputId": "a23502a0-91d2-4248-8aa4-a71a18e0ce6c"
      },
      "execution_count": 31,
      "outputs": [
        {
          "output_type": "execute_result",
          "data": {
            "text/plain": [
              "                              st_id                         pr_sku_id  \\\n",
              "0  16a5cdae362b8d27a1d8f8c7b78b4330  0045ebdb1069ff4b3dd3efe628c39cd3   \n",
              "1  16a5cdae362b8d27a1d8f8c7b78b4330  0045ebdb1069ff4b3dd3efe628c39cd3   \n",
              "2  16a5cdae362b8d27a1d8f8c7b78b4330  0045ebdb1069ff4b3dd3efe628c39cd3   \n",
              "3  16a5cdae362b8d27a1d8f8c7b78b4330  0045ebdb1069ff4b3dd3efe628c39cd3   \n",
              "4  16a5cdae362b8d27a1d8f8c7b78b4330  0045ebdb1069ff4b3dd3efe628c39cd3   \n",
              "\n",
              "        date  target  \n",
              "0 2023-07-19   1.561  \n",
              "1 2023-07-20   1.892  \n",
              "2 2023-07-21   1.949  \n",
              "3 2023-07-22   1.359  \n",
              "4 2023-07-23   1.596  "
            ],
            "text/html": [
              "\n",
              "  <div id=\"df-7dc10783-1acc-435e-b1b1-f9b1e0bd4520\" class=\"colab-df-container\">\n",
              "    <div>\n",
              "<style scoped>\n",
              "    .dataframe tbody tr th:only-of-type {\n",
              "        vertical-align: middle;\n",
              "    }\n",
              "\n",
              "    .dataframe tbody tr th {\n",
              "        vertical-align: top;\n",
              "    }\n",
              "\n",
              "    .dataframe thead th {\n",
              "        text-align: right;\n",
              "    }\n",
              "</style>\n",
              "<table border=\"1\" class=\"dataframe\">\n",
              "  <thead>\n",
              "    <tr style=\"text-align: right;\">\n",
              "      <th></th>\n",
              "      <th>st_id</th>\n",
              "      <th>pr_sku_id</th>\n",
              "      <th>date</th>\n",
              "      <th>target</th>\n",
              "    </tr>\n",
              "  </thead>\n",
              "  <tbody>\n",
              "    <tr>\n",
              "      <th>0</th>\n",
              "      <td>16a5cdae362b8d27a1d8f8c7b78b4330</td>\n",
              "      <td>0045ebdb1069ff4b3dd3efe628c39cd3</td>\n",
              "      <td>2023-07-19</td>\n",
              "      <td>1.561</td>\n",
              "    </tr>\n",
              "    <tr>\n",
              "      <th>1</th>\n",
              "      <td>16a5cdae362b8d27a1d8f8c7b78b4330</td>\n",
              "      <td>0045ebdb1069ff4b3dd3efe628c39cd3</td>\n",
              "      <td>2023-07-20</td>\n",
              "      <td>1.892</td>\n",
              "    </tr>\n",
              "    <tr>\n",
              "      <th>2</th>\n",
              "      <td>16a5cdae362b8d27a1d8f8c7b78b4330</td>\n",
              "      <td>0045ebdb1069ff4b3dd3efe628c39cd3</td>\n",
              "      <td>2023-07-21</td>\n",
              "      <td>1.949</td>\n",
              "    </tr>\n",
              "    <tr>\n",
              "      <th>3</th>\n",
              "      <td>16a5cdae362b8d27a1d8f8c7b78b4330</td>\n",
              "      <td>0045ebdb1069ff4b3dd3efe628c39cd3</td>\n",
              "      <td>2023-07-22</td>\n",
              "      <td>1.359</td>\n",
              "    </tr>\n",
              "    <tr>\n",
              "      <th>4</th>\n",
              "      <td>16a5cdae362b8d27a1d8f8c7b78b4330</td>\n",
              "      <td>0045ebdb1069ff4b3dd3efe628c39cd3</td>\n",
              "      <td>2023-07-23</td>\n",
              "      <td>1.596</td>\n",
              "    </tr>\n",
              "  </tbody>\n",
              "</table>\n",
              "</div>\n",
              "    <div class=\"colab-df-buttons\">\n",
              "\n",
              "  <div class=\"colab-df-container\">\n",
              "    <button class=\"colab-df-convert\" onclick=\"convertToInteractive('df-7dc10783-1acc-435e-b1b1-f9b1e0bd4520')\"\n",
              "            title=\"Convert this dataframe to an interactive table.\"\n",
              "            style=\"display:none;\">\n",
              "\n",
              "  <svg xmlns=\"http://www.w3.org/2000/svg\" height=\"24px\" viewBox=\"0 -960 960 960\">\n",
              "    <path d=\"M120-120v-720h720v720H120Zm60-500h600v-160H180v160Zm220 220h160v-160H400v160Zm0 220h160v-160H400v160ZM180-400h160v-160H180v160Zm440 0h160v-160H620v160ZM180-180h160v-160H180v160Zm440 0h160v-160H620v160Z\"/>\n",
              "  </svg>\n",
              "    </button>\n",
              "\n",
              "  <style>\n",
              "    .colab-df-container {\n",
              "      display:flex;\n",
              "      gap: 12px;\n",
              "    }\n",
              "\n",
              "    .colab-df-convert {\n",
              "      background-color: #E8F0FE;\n",
              "      border: none;\n",
              "      border-radius: 50%;\n",
              "      cursor: pointer;\n",
              "      display: none;\n",
              "      fill: #1967D2;\n",
              "      height: 32px;\n",
              "      padding: 0 0 0 0;\n",
              "      width: 32px;\n",
              "    }\n",
              "\n",
              "    .colab-df-convert:hover {\n",
              "      background-color: #E2EBFA;\n",
              "      box-shadow: 0px 1px 2px rgba(60, 64, 67, 0.3), 0px 1px 3px 1px rgba(60, 64, 67, 0.15);\n",
              "      fill: #174EA6;\n",
              "    }\n",
              "\n",
              "    .colab-df-buttons div {\n",
              "      margin-bottom: 4px;\n",
              "    }\n",
              "\n",
              "    [theme=dark] .colab-df-convert {\n",
              "      background-color: #3B4455;\n",
              "      fill: #D2E3FC;\n",
              "    }\n",
              "\n",
              "    [theme=dark] .colab-df-convert:hover {\n",
              "      background-color: #434B5C;\n",
              "      box-shadow: 0px 1px 3px 1px rgba(0, 0, 0, 0.15);\n",
              "      filter: drop-shadow(0px 1px 2px rgba(0, 0, 0, 0.3));\n",
              "      fill: #FFFFFF;\n",
              "    }\n",
              "  </style>\n",
              "\n",
              "    <script>\n",
              "      const buttonEl =\n",
              "        document.querySelector('#df-7dc10783-1acc-435e-b1b1-f9b1e0bd4520 button.colab-df-convert');\n",
              "      buttonEl.style.display =\n",
              "        google.colab.kernel.accessAllowed ? 'block' : 'none';\n",
              "\n",
              "      async function convertToInteractive(key) {\n",
              "        const element = document.querySelector('#df-7dc10783-1acc-435e-b1b1-f9b1e0bd4520');\n",
              "        const dataTable =\n",
              "          await google.colab.kernel.invokeFunction('convertToInteractive',\n",
              "                                                    [key], {});\n",
              "        if (!dataTable) return;\n",
              "\n",
              "        const docLinkHtml = 'Like what you see? Visit the ' +\n",
              "          '<a target=\"_blank\" href=https://colab.research.google.com/notebooks/data_table.ipynb>data table notebook</a>'\n",
              "          + ' to learn more about interactive tables.';\n",
              "        element.innerHTML = '';\n",
              "        dataTable['output_type'] = 'display_data';\n",
              "        await google.colab.output.renderOutput(dataTable, element);\n",
              "        const docLink = document.createElement('div');\n",
              "        docLink.innerHTML = docLinkHtml;\n",
              "        element.appendChild(docLink);\n",
              "      }\n",
              "    </script>\n",
              "  </div>\n",
              "\n",
              "\n",
              "<div id=\"df-e64d5d75-3cab-44aa-8fc8-65b5f54eda08\">\n",
              "  <button class=\"colab-df-quickchart\" onclick=\"quickchart('df-e64d5d75-3cab-44aa-8fc8-65b5f54eda08')\"\n",
              "            title=\"Suggest charts.\"\n",
              "            style=\"display:none;\">\n",
              "\n",
              "<svg xmlns=\"http://www.w3.org/2000/svg\" height=\"24px\"viewBox=\"0 0 24 24\"\n",
              "     width=\"24px\">\n",
              "    <g>\n",
              "        <path d=\"M19 3H5c-1.1 0-2 .9-2 2v14c0 1.1.9 2 2 2h14c1.1 0 2-.9 2-2V5c0-1.1-.9-2-2-2zM9 17H7v-7h2v7zm4 0h-2V7h2v10zm4 0h-2v-4h2v4z\"/>\n",
              "    </g>\n",
              "</svg>\n",
              "  </button>\n",
              "\n",
              "<style>\n",
              "  .colab-df-quickchart {\n",
              "      --bg-color: #E8F0FE;\n",
              "      --fill-color: #1967D2;\n",
              "      --hover-bg-color: #E2EBFA;\n",
              "      --hover-fill-color: #174EA6;\n",
              "      --disabled-fill-color: #AAA;\n",
              "      --disabled-bg-color: #DDD;\n",
              "  }\n",
              "\n",
              "  [theme=dark] .colab-df-quickchart {\n",
              "      --bg-color: #3B4455;\n",
              "      --fill-color: #D2E3FC;\n",
              "      --hover-bg-color: #434B5C;\n",
              "      --hover-fill-color: #FFFFFF;\n",
              "      --disabled-bg-color: #3B4455;\n",
              "      --disabled-fill-color: #666;\n",
              "  }\n",
              "\n",
              "  .colab-df-quickchart {\n",
              "    background-color: var(--bg-color);\n",
              "    border: none;\n",
              "    border-radius: 50%;\n",
              "    cursor: pointer;\n",
              "    display: none;\n",
              "    fill: var(--fill-color);\n",
              "    height: 32px;\n",
              "    padding: 0;\n",
              "    width: 32px;\n",
              "  }\n",
              "\n",
              "  .colab-df-quickchart:hover {\n",
              "    background-color: var(--hover-bg-color);\n",
              "    box-shadow: 0 1px 2px rgba(60, 64, 67, 0.3), 0 1px 3px 1px rgba(60, 64, 67, 0.15);\n",
              "    fill: var(--button-hover-fill-color);\n",
              "  }\n",
              "\n",
              "  .colab-df-quickchart-complete:disabled,\n",
              "  .colab-df-quickchart-complete:disabled:hover {\n",
              "    background-color: var(--disabled-bg-color);\n",
              "    fill: var(--disabled-fill-color);\n",
              "    box-shadow: none;\n",
              "  }\n",
              "\n",
              "  .colab-df-spinner {\n",
              "    border: 2px solid var(--fill-color);\n",
              "    border-color: transparent;\n",
              "    border-bottom-color: var(--fill-color);\n",
              "    animation:\n",
              "      spin 1s steps(1) infinite;\n",
              "  }\n",
              "\n",
              "  @keyframes spin {\n",
              "    0% {\n",
              "      border-color: transparent;\n",
              "      border-bottom-color: var(--fill-color);\n",
              "      border-left-color: var(--fill-color);\n",
              "    }\n",
              "    20% {\n",
              "      border-color: transparent;\n",
              "      border-left-color: var(--fill-color);\n",
              "      border-top-color: var(--fill-color);\n",
              "    }\n",
              "    30% {\n",
              "      border-color: transparent;\n",
              "      border-left-color: var(--fill-color);\n",
              "      border-top-color: var(--fill-color);\n",
              "      border-right-color: var(--fill-color);\n",
              "    }\n",
              "    40% {\n",
              "      border-color: transparent;\n",
              "      border-right-color: var(--fill-color);\n",
              "      border-top-color: var(--fill-color);\n",
              "    }\n",
              "    60% {\n",
              "      border-color: transparent;\n",
              "      border-right-color: var(--fill-color);\n",
              "    }\n",
              "    80% {\n",
              "      border-color: transparent;\n",
              "      border-right-color: var(--fill-color);\n",
              "      border-bottom-color: var(--fill-color);\n",
              "    }\n",
              "    90% {\n",
              "      border-color: transparent;\n",
              "      border-bottom-color: var(--fill-color);\n",
              "    }\n",
              "  }\n",
              "</style>\n",
              "\n",
              "  <script>\n",
              "    async function quickchart(key) {\n",
              "      const quickchartButtonEl =\n",
              "        document.querySelector('#' + key + ' button');\n",
              "      quickchartButtonEl.disabled = true;  // To prevent multiple clicks.\n",
              "      quickchartButtonEl.classList.add('colab-df-spinner');\n",
              "      try {\n",
              "        const charts = await google.colab.kernel.invokeFunction(\n",
              "            'suggestCharts', [key], {});\n",
              "      } catch (error) {\n",
              "        console.error('Error during call to suggestCharts:', error);\n",
              "      }\n",
              "      quickchartButtonEl.classList.remove('colab-df-spinner');\n",
              "      quickchartButtonEl.classList.add('colab-df-quickchart-complete');\n",
              "    }\n",
              "    (() => {\n",
              "      let quickchartButtonEl =\n",
              "        document.querySelector('#df-e64d5d75-3cab-44aa-8fc8-65b5f54eda08 button');\n",
              "      quickchartButtonEl.style.display =\n",
              "        google.colab.kernel.accessAllowed ? 'block' : 'none';\n",
              "    })();\n",
              "  </script>\n",
              "</div>\n",
              "    </div>\n",
              "  </div>\n"
            ]
          },
          "metadata": {},
          "execution_count": 31
        }
      ]
    },
    {
      "cell_type": "code",
      "source": [
        "sales_submission_prediction.to_csv('/content/drive/MyDrive/hackathon_lenta/sales_submission_filled.csv')"
      ],
      "metadata": {
        "id": "CVBABQoXrcL6"
      },
      "execution_count": 32,
      "outputs": []
    }
  ]
}