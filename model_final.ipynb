{
  "nbformat": 4,
  "nbformat_minor": 0,
  "metadata": {
    "colab": {
      "provenance": []
    },
    "kernelspec": {
      "name": "python3",
      "display_name": "Python 3"
    },
    "language_info": {
      "name": "python"
    }
  },
  "cells": [
    {
      "cell_type": "markdown",
      "source": [
        "# Обучение модели предсказания продаж"
      ],
      "metadata": {
        "id": "9T3dtkLyDtBP"
      }
    },
    {
      "cell_type": "code",
      "source": [
        "!pip install catboost"
      ],
      "metadata": {
        "id": "OPmIpugRSu12",
        "colab": {
          "base_uri": "https://localhost:8080/"
        },
        "outputId": "13f0c143-3e22-42a2-fe01-6eeb6c5560c0"
      },
      "execution_count": 1,
      "outputs": [
        {
          "output_type": "stream",
          "name": "stdout",
          "text": [
            "Requirement already satisfied: catboost in /usr/local/lib/python3.10/dist-packages (1.2.2)\n",
            "Requirement already satisfied: graphviz in /usr/local/lib/python3.10/dist-packages (from catboost) (0.20.1)\n",
            "Requirement already satisfied: matplotlib in /usr/local/lib/python3.10/dist-packages (from catboost) (3.7.1)\n",
            "Requirement already satisfied: numpy>=1.16.0 in /usr/local/lib/python3.10/dist-packages (from catboost) (1.23.5)\n",
            "Requirement already satisfied: pandas>=0.24 in /usr/local/lib/python3.10/dist-packages (from catboost) (1.5.3)\n",
            "Requirement already satisfied: scipy in /usr/local/lib/python3.10/dist-packages (from catboost) (1.11.3)\n",
            "Requirement already satisfied: plotly in /usr/local/lib/python3.10/dist-packages (from catboost) (5.15.0)\n",
            "Requirement already satisfied: six in /usr/local/lib/python3.10/dist-packages (from catboost) (1.16.0)\n",
            "Requirement already satisfied: python-dateutil>=2.8.1 in /usr/local/lib/python3.10/dist-packages (from pandas>=0.24->catboost) (2.8.2)\n",
            "Requirement already satisfied: pytz>=2020.1 in /usr/local/lib/python3.10/dist-packages (from pandas>=0.24->catboost) (2023.3.post1)\n",
            "Requirement already satisfied: contourpy>=1.0.1 in /usr/local/lib/python3.10/dist-packages (from matplotlib->catboost) (1.1.1)\n",
            "Requirement already satisfied: cycler>=0.10 in /usr/local/lib/python3.10/dist-packages (from matplotlib->catboost) (0.12.0)\n",
            "Requirement already satisfied: fonttools>=4.22.0 in /usr/local/lib/python3.10/dist-packages (from matplotlib->catboost) (4.43.0)\n",
            "Requirement already satisfied: kiwisolver>=1.0.1 in /usr/local/lib/python3.10/dist-packages (from matplotlib->catboost) (1.4.5)\n",
            "Requirement already satisfied: packaging>=20.0 in /usr/local/lib/python3.10/dist-packages (from matplotlib->catboost) (23.2)\n",
            "Requirement already satisfied: pillow>=6.2.0 in /usr/local/lib/python3.10/dist-packages (from matplotlib->catboost) (9.4.0)\n",
            "Requirement already satisfied: pyparsing>=2.3.1 in /usr/local/lib/python3.10/dist-packages (from matplotlib->catboost) (3.1.1)\n",
            "Requirement already satisfied: tenacity>=6.2.0 in /usr/local/lib/python3.10/dist-packages (from plotly->catboost) (8.2.3)\n"
          ]
        }
      ]
    },
    {
      "cell_type": "code",
      "execution_count": 2,
      "metadata": {
        "colab": {
          "base_uri": "https://localhost:8080/"
        },
        "id": "cterN8Q0Soga",
        "outputId": "c4a98db0-8892-4eda-f026-b4c91795c940"
      },
      "outputs": [
        {
          "output_type": "stream",
          "name": "stdout",
          "text": [
            "Drive already mounted at /content/drive; to attempt to forcibly remount, call drive.mount(\"/content/drive\", force_remount=True).\n"
          ]
        }
      ],
      "source": [
        "from google.colab import drive\n",
        "drive.mount('/content/drive')"
      ]
    },
    {
      "cell_type": "code",
      "source": [
        "import numpy as np\n",
        "import pandas as pd\n",
        "\n",
        "import catboost\n",
        "from catboost import CatBoostRegressor, Pool\n",
        "\n",
        "import pickle"
      ],
      "metadata": {
        "id": "41umACSiS3Og"
      },
      "execution_count": 3,
      "outputs": []
    },
    {
      "cell_type": "code",
      "source": [
        "RANDOM_SEED = 12345"
      ],
      "metadata": {
        "id": "NsRTzvk_ZfCe"
      },
      "execution_count": 4,
      "outputs": []
    },
    {
      "cell_type": "markdown",
      "source": [
        "## Загрузка обработанных данных и создание признаков\n"
      ],
      "metadata": {
        "id": "7XxapmL1GLaY"
      }
    },
    {
      "cell_type": "code",
      "source": [
        "df_train = pd.read_csv('/content/drive/MyDrive/hackathon_lenta/df_train.csv')\n",
        "df_test = pd.read_csv('/content/drive/MyDrive/hackathon_lenta/df_test.csv')"
      ],
      "metadata": {
        "id": "UpVn90gbOjko"
      },
      "execution_count": 5,
      "outputs": []
    },
    {
      "cell_type": "code",
      "source": [
        "features_train = df_train.drop(['pr_sales_in_units',\n",
        "                                'Unnamed: 0',\n",
        "                                'date'], axis=1)\n",
        "\n",
        "target_train = df_train['pr_sales_in_units']"
      ],
      "metadata": {
        "id": "72opOSdMJ4FK"
      },
      "execution_count": 6,
      "outputs": []
    },
    {
      "cell_type": "code",
      "source": [
        "features_test = df_test.drop(['pr_sales_in_units',\n",
        "                              'Unnamed: 0',\n",
        "                              'date'], axis=1)\n",
        "\n",
        "target_test = df_test['pr_sales_in_units']"
      ],
      "metadata": {
        "id": "rBO-gCqnKDpH"
      },
      "execution_count": 7,
      "outputs": []
    },
    {
      "cell_type": "markdown",
      "source": [
        "## Обучение модели"
      ],
      "metadata": {
        "id": "KgcWuReLGS08"
      }
    },
    {
      "cell_type": "code",
      "source": [
        "columns_to_encode = ['st_id',\n",
        "                     'pr_sku_id',\n",
        "                     'holiday',\n",
        "                     'season',\n",
        "                     'before_holidays_n_days',\n",
        "                     'after_holidays_n_days',\n",
        "                     'pr_uom_id',\n",
        "                     'pr_sales_type_id',\n",
        "                     'is_outlier']"
      ],
      "metadata": {
        "id": "vP63zPVPvhPp"
      },
      "execution_count": 8,
      "outputs": []
    },
    {
      "cell_type": "code",
      "source": [
        "model = CatBoostRegressor(\n",
        "    iterations=1500,\n",
        "    loss_function='RMSE',\n",
        "    eval_metric='RMSE',\n",
        "    random_seed=12345,\n",
        "    cat_features=columns_to_encode,\n",
        "    verbose=50)"
      ],
      "metadata": {
        "id": "4l6riLotXQSA"
      },
      "execution_count": 9,
      "outputs": []
    },
    {
      "cell_type": "code",
      "source": [
        "model.fit(features_train, target_train)"
      ],
      "metadata": {
        "id": "dcSxDKYiXmGv",
        "colab": {
          "base_uri": "https://localhost:8080/"
        },
        "outputId": "e7e2c32a-bda0-4791-9f9c-0baa838e469b"
      },
      "execution_count": 10,
      "outputs": [
        {
          "output_type": "stream",
          "name": "stdout",
          "text": [
            "Learning rate set to 0.082651\n",
            "0:\tlearn: 14.8723265\ttotal: 1.13s\tremaining: 28m 7s\n",
            "50:\tlearn: 7.0970828\ttotal: 22.9s\tremaining: 10m 49s\n",
            "100:\tlearn: 6.7088149\ttotal: 38.6s\tremaining: 8m 53s\n",
            "150:\tlearn: 6.4722270\ttotal: 55s\tremaining: 8m 11s\n",
            "200:\tlearn: 6.2833267\ttotal: 1m 13s\tremaining: 7m 52s\n",
            "250:\tlearn: 6.1441768\ttotal: 1m 29s\tremaining: 7m 23s\n",
            "300:\tlearn: 6.0364274\ttotal: 1m 44s\tremaining: 6m 56s\n",
            "350:\tlearn: 5.9333736\ttotal: 2m\tremaining: 6m 35s\n",
            "400:\tlearn: 5.8014239\ttotal: 2m 18s\tremaining: 6m 18s\n",
            "450:\tlearn: 5.6837514\ttotal: 2m 34s\tremaining: 5m 59s\n",
            "500:\tlearn: 5.5947280\ttotal: 2m 50s\tremaining: 5m 39s\n",
            "550:\tlearn: 5.5053099\ttotal: 3m 8s\tremaining: 5m 23s\n",
            "600:\tlearn: 5.4354962\ttotal: 3m 26s\tremaining: 5m 8s\n",
            "650:\tlearn: 5.3719273\ttotal: 3m 43s\tremaining: 4m 51s\n",
            "700:\tlearn: 5.3193296\ttotal: 4m\tremaining: 4m 34s\n",
            "750:\tlearn: 5.2726901\ttotal: 4m 17s\tremaining: 4m 16s\n",
            "800:\tlearn: 5.2332271\ttotal: 4m 35s\tremaining: 4m\n",
            "850:\tlearn: 5.1912527\ttotal: 4m 52s\tremaining: 3m 42s\n",
            "900:\tlearn: 5.1503040\ttotal: 5m 8s\tremaining: 3m 25s\n",
            "950:\tlearn: 5.1094235\ttotal: 5m 25s\tremaining: 3m 7s\n",
            "1000:\tlearn: 5.0665973\ttotal: 5m 43s\tremaining: 2m 51s\n",
            "1050:\tlearn: 5.0422610\ttotal: 6m\tremaining: 2m 33s\n",
            "1100:\tlearn: 5.0151594\ttotal: 6m 16s\tremaining: 2m 16s\n",
            "1150:\tlearn: 4.9796247\ttotal: 6m 32s\tremaining: 1m 59s\n",
            "1200:\tlearn: 4.9533423\ttotal: 6m 50s\tremaining: 1m 42s\n",
            "1250:\tlearn: 4.9293704\ttotal: 7m 6s\tremaining: 1m 24s\n",
            "1300:\tlearn: 4.9080764\ttotal: 7m 23s\tremaining: 1m 7s\n",
            "1350:\tlearn: 4.8807396\ttotal: 7m 39s\tremaining: 50.7s\n",
            "1400:\tlearn: 4.8567106\ttotal: 7m 57s\tremaining: 33.7s\n",
            "1450:\tlearn: 4.8312060\ttotal: 8m 14s\tremaining: 16.7s\n",
            "1499:\tlearn: 4.8137401\ttotal: 8m 31s\tremaining: 0us\n"
          ]
        },
        {
          "output_type": "execute_result",
          "data": {
            "text/plain": [
              "<catboost.core.CatBoostRegressor at 0x7d8a6ef03670>"
            ]
          },
          "metadata": {},
          "execution_count": 10
        }
      ]
    },
    {
      "cell_type": "code",
      "source": [
        "predictions = model.predict(features_test)"
      ],
      "metadata": {
        "id": "V2Z8zTfx4APW"
      },
      "execution_count": 11,
      "outputs": []
    },
    {
      "cell_type": "code",
      "source": [
        "wape = np.sum(np.abs(target_test - predictions)) / np.sum(target_test)\n",
        "print(f'CatBoost WAPE: {wape:.4}')"
      ],
      "metadata": {
        "id": "3UJWnek8XyPQ",
        "colab": {
          "base_uri": "https://localhost:8080/"
        },
        "outputId": "173e5e75-a907-4133-e2c4-7839ec0e7222"
      },
      "execution_count": 12,
      "outputs": [
        {
          "output_type": "stream",
          "name": "stdout",
          "text": [
            "CatBoost WAPE: 0.4005\n"
          ]
        }
      ]
    },
    {
      "cell_type": "markdown",
      "source": [
        "Важность признаков."
      ],
      "metadata": {
        "id": "_jg1n_ugtpv1"
      }
    },
    {
      "cell_type": "code",
      "source": [
        "feature_importance = model.get_feature_importance(type=catboost.EFstrType.FeatureImportance)"
      ],
      "metadata": {
        "id": "coSW4ZmLuA48"
      },
      "execution_count": 13,
      "outputs": []
    },
    {
      "cell_type": "code",
      "source": [
        "importance_df = pd.DataFrame({'Признак': features_train.columns, 'Важность': feature_importance}).sort_values(by='Важность', ascending=False).reset_index(drop=True)"
      ],
      "metadata": {
        "id": "ww1LcZrluT73"
      },
      "execution_count": 15,
      "outputs": []
    },
    {
      "cell_type": "code",
      "source": [
        "importance_df.head(10)"
      ],
      "metadata": {
        "colab": {
          "base_uri": "https://localhost:8080/",
          "height": 363
        },
        "id": "2bv7eBg_uavD",
        "outputId": "6a0cb47a-2370-4036-9876-c09132ec483a"
      },
      "execution_count": 16,
      "outputs": [
        {
          "output_type": "execute_result",
          "data": {
            "text/plain": [
              "           Признак   Важность\n",
              "0      lag_1_sales  23.168108\n",
              "1       is_outlier  19.202784\n",
              "2  rolling_mean_14  13.038671\n",
              "3   rolling_mean_7  10.193620\n",
              "4      lag_7_sales   6.344089\n",
              "5        pr_sku_id   4.582081\n",
              "6  cos_day_of_week   3.604708\n",
              "7     lag_14_sales   3.571100\n",
              "8   rolling_mean_2   3.399210\n",
              "9        pr_uom_id   2.456832"
            ],
            "text/html": [
              "\n",
              "  <div id=\"df-ca4b740a-8cd8-45bd-bb08-e2a820032841\" class=\"colab-df-container\">\n",
              "    <div>\n",
              "<style scoped>\n",
              "    .dataframe tbody tr th:only-of-type {\n",
              "        vertical-align: middle;\n",
              "    }\n",
              "\n",
              "    .dataframe tbody tr th {\n",
              "        vertical-align: top;\n",
              "    }\n",
              "\n",
              "    .dataframe thead th {\n",
              "        text-align: right;\n",
              "    }\n",
              "</style>\n",
              "<table border=\"1\" class=\"dataframe\">\n",
              "  <thead>\n",
              "    <tr style=\"text-align: right;\">\n",
              "      <th></th>\n",
              "      <th>Признак</th>\n",
              "      <th>Важность</th>\n",
              "    </tr>\n",
              "  </thead>\n",
              "  <tbody>\n",
              "    <tr>\n",
              "      <th>0</th>\n",
              "      <td>lag_1_sales</td>\n",
              "      <td>23.168108</td>\n",
              "    </tr>\n",
              "    <tr>\n",
              "      <th>1</th>\n",
              "      <td>is_outlier</td>\n",
              "      <td>19.202784</td>\n",
              "    </tr>\n",
              "    <tr>\n",
              "      <th>2</th>\n",
              "      <td>rolling_mean_14</td>\n",
              "      <td>13.038671</td>\n",
              "    </tr>\n",
              "    <tr>\n",
              "      <th>3</th>\n",
              "      <td>rolling_mean_7</td>\n",
              "      <td>10.193620</td>\n",
              "    </tr>\n",
              "    <tr>\n",
              "      <th>4</th>\n",
              "      <td>lag_7_sales</td>\n",
              "      <td>6.344089</td>\n",
              "    </tr>\n",
              "    <tr>\n",
              "      <th>5</th>\n",
              "      <td>pr_sku_id</td>\n",
              "      <td>4.582081</td>\n",
              "    </tr>\n",
              "    <tr>\n",
              "      <th>6</th>\n",
              "      <td>cos_day_of_week</td>\n",
              "      <td>3.604708</td>\n",
              "    </tr>\n",
              "    <tr>\n",
              "      <th>7</th>\n",
              "      <td>lag_14_sales</td>\n",
              "      <td>3.571100</td>\n",
              "    </tr>\n",
              "    <tr>\n",
              "      <th>8</th>\n",
              "      <td>rolling_mean_2</td>\n",
              "      <td>3.399210</td>\n",
              "    </tr>\n",
              "    <tr>\n",
              "      <th>9</th>\n",
              "      <td>pr_uom_id</td>\n",
              "      <td>2.456832</td>\n",
              "    </tr>\n",
              "  </tbody>\n",
              "</table>\n",
              "</div>\n",
              "    <div class=\"colab-df-buttons\">\n",
              "\n",
              "  <div class=\"colab-df-container\">\n",
              "    <button class=\"colab-df-convert\" onclick=\"convertToInteractive('df-ca4b740a-8cd8-45bd-bb08-e2a820032841')\"\n",
              "            title=\"Convert this dataframe to an interactive table.\"\n",
              "            style=\"display:none;\">\n",
              "\n",
              "  <svg xmlns=\"http://www.w3.org/2000/svg\" height=\"24px\" viewBox=\"0 -960 960 960\">\n",
              "    <path d=\"M120-120v-720h720v720H120Zm60-500h600v-160H180v160Zm220 220h160v-160H400v160Zm0 220h160v-160H400v160ZM180-400h160v-160H180v160Zm440 0h160v-160H620v160ZM180-180h160v-160H180v160Zm440 0h160v-160H620v160Z\"/>\n",
              "  </svg>\n",
              "    </button>\n",
              "\n",
              "  <style>\n",
              "    .colab-df-container {\n",
              "      display:flex;\n",
              "      gap: 12px;\n",
              "    }\n",
              "\n",
              "    .colab-df-convert {\n",
              "      background-color: #E8F0FE;\n",
              "      border: none;\n",
              "      border-radius: 50%;\n",
              "      cursor: pointer;\n",
              "      display: none;\n",
              "      fill: #1967D2;\n",
              "      height: 32px;\n",
              "      padding: 0 0 0 0;\n",
              "      width: 32px;\n",
              "    }\n",
              "\n",
              "    .colab-df-convert:hover {\n",
              "      background-color: #E2EBFA;\n",
              "      box-shadow: 0px 1px 2px rgba(60, 64, 67, 0.3), 0px 1px 3px 1px rgba(60, 64, 67, 0.15);\n",
              "      fill: #174EA6;\n",
              "    }\n",
              "\n",
              "    .colab-df-buttons div {\n",
              "      margin-bottom: 4px;\n",
              "    }\n",
              "\n",
              "    [theme=dark] .colab-df-convert {\n",
              "      background-color: #3B4455;\n",
              "      fill: #D2E3FC;\n",
              "    }\n",
              "\n",
              "    [theme=dark] .colab-df-convert:hover {\n",
              "      background-color: #434B5C;\n",
              "      box-shadow: 0px 1px 3px 1px rgba(0, 0, 0, 0.15);\n",
              "      filter: drop-shadow(0px 1px 2px rgba(0, 0, 0, 0.3));\n",
              "      fill: #FFFFFF;\n",
              "    }\n",
              "  </style>\n",
              "\n",
              "    <script>\n",
              "      const buttonEl =\n",
              "        document.querySelector('#df-ca4b740a-8cd8-45bd-bb08-e2a820032841 button.colab-df-convert');\n",
              "      buttonEl.style.display =\n",
              "        google.colab.kernel.accessAllowed ? 'block' : 'none';\n",
              "\n",
              "      async function convertToInteractive(key) {\n",
              "        const element = document.querySelector('#df-ca4b740a-8cd8-45bd-bb08-e2a820032841');\n",
              "        const dataTable =\n",
              "          await google.colab.kernel.invokeFunction('convertToInteractive',\n",
              "                                                    [key], {});\n",
              "        if (!dataTable) return;\n",
              "\n",
              "        const docLinkHtml = 'Like what you see? Visit the ' +\n",
              "          '<a target=\"_blank\" href=https://colab.research.google.com/notebooks/data_table.ipynb>data table notebook</a>'\n",
              "          + ' to learn more about interactive tables.';\n",
              "        element.innerHTML = '';\n",
              "        dataTable['output_type'] = 'display_data';\n",
              "        await google.colab.output.renderOutput(dataTable, element);\n",
              "        const docLink = document.createElement('div');\n",
              "        docLink.innerHTML = docLinkHtml;\n",
              "        element.appendChild(docLink);\n",
              "      }\n",
              "    </script>\n",
              "  </div>\n",
              "\n",
              "\n",
              "<div id=\"df-1ce1f63c-ad76-461c-a053-51872ba29953\">\n",
              "  <button class=\"colab-df-quickchart\" onclick=\"quickchart('df-1ce1f63c-ad76-461c-a053-51872ba29953')\"\n",
              "            title=\"Suggest charts.\"\n",
              "            style=\"display:none;\">\n",
              "\n",
              "<svg xmlns=\"http://www.w3.org/2000/svg\" height=\"24px\"viewBox=\"0 0 24 24\"\n",
              "     width=\"24px\">\n",
              "    <g>\n",
              "        <path d=\"M19 3H5c-1.1 0-2 .9-2 2v14c0 1.1.9 2 2 2h14c1.1 0 2-.9 2-2V5c0-1.1-.9-2-2-2zM9 17H7v-7h2v7zm4 0h-2V7h2v10zm4 0h-2v-4h2v4z\"/>\n",
              "    </g>\n",
              "</svg>\n",
              "  </button>\n",
              "\n",
              "<style>\n",
              "  .colab-df-quickchart {\n",
              "      --bg-color: #E8F0FE;\n",
              "      --fill-color: #1967D2;\n",
              "      --hover-bg-color: #E2EBFA;\n",
              "      --hover-fill-color: #174EA6;\n",
              "      --disabled-fill-color: #AAA;\n",
              "      --disabled-bg-color: #DDD;\n",
              "  }\n",
              "\n",
              "  [theme=dark] .colab-df-quickchart {\n",
              "      --bg-color: #3B4455;\n",
              "      --fill-color: #D2E3FC;\n",
              "      --hover-bg-color: #434B5C;\n",
              "      --hover-fill-color: #FFFFFF;\n",
              "      --disabled-bg-color: #3B4455;\n",
              "      --disabled-fill-color: #666;\n",
              "  }\n",
              "\n",
              "  .colab-df-quickchart {\n",
              "    background-color: var(--bg-color);\n",
              "    border: none;\n",
              "    border-radius: 50%;\n",
              "    cursor: pointer;\n",
              "    display: none;\n",
              "    fill: var(--fill-color);\n",
              "    height: 32px;\n",
              "    padding: 0;\n",
              "    width: 32px;\n",
              "  }\n",
              "\n",
              "  .colab-df-quickchart:hover {\n",
              "    background-color: var(--hover-bg-color);\n",
              "    box-shadow: 0 1px 2px rgba(60, 64, 67, 0.3), 0 1px 3px 1px rgba(60, 64, 67, 0.15);\n",
              "    fill: var(--button-hover-fill-color);\n",
              "  }\n",
              "\n",
              "  .colab-df-quickchart-complete:disabled,\n",
              "  .colab-df-quickchart-complete:disabled:hover {\n",
              "    background-color: var(--disabled-bg-color);\n",
              "    fill: var(--disabled-fill-color);\n",
              "    box-shadow: none;\n",
              "  }\n",
              "\n",
              "  .colab-df-spinner {\n",
              "    border: 2px solid var(--fill-color);\n",
              "    border-color: transparent;\n",
              "    border-bottom-color: var(--fill-color);\n",
              "    animation:\n",
              "      spin 1s steps(1) infinite;\n",
              "  }\n",
              "\n",
              "  @keyframes spin {\n",
              "    0% {\n",
              "      border-color: transparent;\n",
              "      border-bottom-color: var(--fill-color);\n",
              "      border-left-color: var(--fill-color);\n",
              "    }\n",
              "    20% {\n",
              "      border-color: transparent;\n",
              "      border-left-color: var(--fill-color);\n",
              "      border-top-color: var(--fill-color);\n",
              "    }\n",
              "    30% {\n",
              "      border-color: transparent;\n",
              "      border-left-color: var(--fill-color);\n",
              "      border-top-color: var(--fill-color);\n",
              "      border-right-color: var(--fill-color);\n",
              "    }\n",
              "    40% {\n",
              "      border-color: transparent;\n",
              "      border-right-color: var(--fill-color);\n",
              "      border-top-color: var(--fill-color);\n",
              "    }\n",
              "    60% {\n",
              "      border-color: transparent;\n",
              "      border-right-color: var(--fill-color);\n",
              "    }\n",
              "    80% {\n",
              "      border-color: transparent;\n",
              "      border-right-color: var(--fill-color);\n",
              "      border-bottom-color: var(--fill-color);\n",
              "    }\n",
              "    90% {\n",
              "      border-color: transparent;\n",
              "      border-bottom-color: var(--fill-color);\n",
              "    }\n",
              "  }\n",
              "</style>\n",
              "\n",
              "  <script>\n",
              "    async function quickchart(key) {\n",
              "      const quickchartButtonEl =\n",
              "        document.querySelector('#' + key + ' button');\n",
              "      quickchartButtonEl.disabled = true;  // To prevent multiple clicks.\n",
              "      quickchartButtonEl.classList.add('colab-df-spinner');\n",
              "      try {\n",
              "        const charts = await google.colab.kernel.invokeFunction(\n",
              "            'suggestCharts', [key], {});\n",
              "      } catch (error) {\n",
              "        console.error('Error during call to suggestCharts:', error);\n",
              "      }\n",
              "      quickchartButtonEl.classList.remove('colab-df-spinner');\n",
              "      quickchartButtonEl.classList.add('colab-df-quickchart-complete');\n",
              "    }\n",
              "    (() => {\n",
              "      let quickchartButtonEl =\n",
              "        document.querySelector('#df-1ce1f63c-ad76-461c-a053-51872ba29953 button');\n",
              "      quickchartButtonEl.style.display =\n",
              "        google.colab.kernel.accessAllowed ? 'block' : 'none';\n",
              "    })();\n",
              "  </script>\n",
              "</div>\n",
              "    </div>\n",
              "  </div>\n"
            ]
          },
          "metadata": {},
          "execution_count": 16
        }
      ]
    },
    {
      "cell_type": "markdown",
      "source": [
        "## Сохранение данных в формате pkl для backend"
      ],
      "metadata": {
        "id": "hFwMOpOKGY6D"
      }
    },
    {
      "cell_type": "code",
      "source": [
        "model.save_model('/content/drive/MyDrive/hackathon_lenta/catboost_model_40.0.cbm', format='cbm')"
      ],
      "metadata": {
        "id": "D80c5q35RBl_"
      },
      "execution_count": 17,
      "outputs": []
    },
    {
      "cell_type": "code",
      "source": [
        "with open('/content/drive/MyDrive/hackathon_lenta/catboost_model_40.0.pkl', 'wb') as m:\n",
        "    pickle.dump(model, m)"
      ],
      "metadata": {
        "id": "hiyI3s0ZR03S"
      },
      "execution_count": 18,
      "outputs": []
    },
    {
      "cell_type": "code",
      "source": [
        "with open('/content/drive/MyDrive/hackathon_lenta/df_train.pkl', 'wb') as df_train:\n",
        "    pickle.dump(df_train, df_train)"
      ],
      "metadata": {
        "id": "d7OmeibxKmKV"
      },
      "execution_count": 19,
      "outputs": []
    },
    {
      "cell_type": "code",
      "source": [
        "with open('/content/drive/MyDrive/hackathon_lenta/df_test.pkl', 'wb') as df_test:\n",
        "    pickle.dump(df_test, df_test)"
      ],
      "metadata": {
        "id": "5R2g-LMzKLQ3"
      },
      "execution_count": 20,
      "outputs": []
    },
    {
      "cell_type": "code",
      "source": [
        "with open('/content/drive/MyDrive/hackathon_lenta/features_test.pkl', 'wb') as f:\n",
        "    pickle.dump(features_test, f)"
      ],
      "metadata": {
        "id": "pTJxJMXrKO0b"
      },
      "execution_count": 21,
      "outputs": []
    },
    {
      "cell_type": "code",
      "source": [
        "with open('/content/drive/MyDrive/hackathon_lenta/target_test.pkl', 'wb') as t:\n",
        "    pickle.dump(target_test, t)"
      ],
      "metadata": {
        "id": "BjDCG7rTKYNp"
      },
      "execution_count": 22,
      "outputs": []
    }
  ]
}