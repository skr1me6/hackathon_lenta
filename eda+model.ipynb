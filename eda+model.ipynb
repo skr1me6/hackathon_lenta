{
 "cells": [
  {
   "cell_type": "markdown",
   "id": "cdd7f6bb",
   "metadata": {},
   "source": [
    "EDA for project LENTA"
   ]
  },
  {
   "cell_type": "code",
   "execution_count": 1,
   "id": "2512db3d",
   "metadata": {},
   "outputs": [],
   "source": [
    "import pandas as pd\n",
    "import numpy as np\n",
    "import matplotlib.pyplot as plt\n",
    "import seaborn as sns\n",
    "\n",
    "\n",
    "import matplotlib.pyplot as plt\n",
    "import lightgbm as lgb\n",
    "from sklearn.model_selection import GridSearchCV\n",
    "from sklearn.model_selection import RandomizedSearchCV\n",
    "from sklearn.model_selection import train_test_split, TimeSeriesSplit, RandomizedSearchCV\n",
    "from sklearn.linear_model import LinearRegression\n",
    "from sklearn.metrics import mean_squared_error\n",
    "from statsmodels.tsa.seasonal import seasonal_decompose\n",
    "from sklearn.pipeline import Pipeline\n",
    "from sklearn.ensemble import RandomForestRegressor"
   ]
  },
  {
   "cell_type": "code",
   "execution_count": 2,
   "id": "d5ca5ace",
   "metadata": {},
   "outputs": [],
   "source": [
    "pr_df = pd.read_csv(\"C:\\\\Users\\\\Star\\\\Downloads\\\\sp_sales_task\\\\pr_df.csv\")"
   ]
  },
  {
   "cell_type": "markdown",
   "id": "d02e7a21",
   "metadata": {},
   "source": [
    "pr_df.csv – данные по товарной иерархии. \n",
    "\n",
    "От большего к меньшему pr_group_id - pr_cat_id - pr_subcat_id - pr_sku_id.\n",
    "\n",
    "Столбцы: \n",
    "    \n",
    "pr_group_id – захэшированная группа товара; \n",
    "\n",
    "pr_cat_id – захэшированная категория товара; \n",
    "\n",
    "pr_subcat_id – захэшированная подкатегория товара;\n",
    "\n",
    "pr_sku_id – захэшированное id товара;\n",
    "\n",
    "pr_uom_id (маркер, обозначающий продаётся товар на вес или в ШТ).\n",
    "\n"
   ]
  },
  {
   "cell_type": "code",
   "execution_count": 3,
   "id": "16f08758",
   "metadata": {},
   "outputs": [],
   "source": [
    "sales_df_train = pd.read_csv('C:\\\\Users\\\\Star\\\\Downloads\\\\sp_sales_task\\\\sales_df_train.csv')"
   ]
  },
  {
   "cell_type": "markdown",
   "id": "bbe7314d",
   "metadata": {},
   "source": [
    "sales_df_train.csv –данные по продажам за скользящий год для обучения. \n",
    "\n",
    "Столбцы: \n",
    "    \n",
    "st_id – захэшированное id магазина;\n",
    "\n",
    "pr_sku_id – захэшированное id товара;\n",
    "\n",
    "date – дата;\n",
    "\n",
    "pr_sales_type_id – флаг наличия промо;\n",
    "\n",
    "pr_sales_in_units – число проданных товаров без признака промо;\n",
    "\n",
    "pr_promo_sales_in_units – число проданных товаров с признаком промо;\n",
    "\n",
    "pr_sales_in_rub – продажи без признака промо в РУБ;\n",
    "\n",
    "pr_promo_sales_in_rub – продажи с признаком промо в РУБ;\n"
   ]
  },
  {
   "cell_type": "code",
   "execution_count": 4,
   "id": "3d9a97b8",
   "metadata": {},
   "outputs": [],
   "source": [
    "sales_submission = pd.read_csv('C:\\\\Users\\\\Star\\\\Downloads\\\\sp_sales_task\\\\sales_submission.csv')"
   ]
  },
  {
   "cell_type": "markdown",
   "id": "f65d360d",
   "metadata": {},
   "source": [
    "sales_submission.csv – пример файла с результатом работы модели прогноза спроса. \n",
    "\n",
    "Необходимо подготовить файл в таком же формате, заполнив колонку target предсказаниями (по умолчанию колонка заполнена нулями). \n",
    "\n",
    "Столбцы:\n",
    "    \n",
    "st_id – захэшированное id магазина; \n",
    "\n",
    "pr_sku_id – захэшированное id товара;\n",
    "\n",
    "date – дата (день);\n",
    "\n",
    "target – спрос в ШТ"
   ]
  },
  {
   "cell_type": "code",
   "execution_count": 5,
   "id": "125c3fbf",
   "metadata": {},
   "outputs": [],
   "source": [
    "st_df = pd.read_csv('C:\\\\Users\\\\Star\\\\Downloads\\\\sp_sales_task\\\\st_df.csv')"
   ]
  },
  {
   "cell_type": "markdown",
   "id": "907815e1",
   "metadata": {},
   "source": [
    "st_df.csv – данные по магазинам. \n",
    "\n",
    "Столбцы: \n",
    "    \n",
    "st_id – захэшированное id магазина;\n",
    "\n",
    "st_city_id – захэшированное id города;\n",
    "\n",
    "st_division_code id – захэшированное id дивизиона;\n",
    "\n",
    "st_type_format_id – id формата магазина; \n",
    "\n",
    "st_type_loc_id – id тип локации/окружения магазина;\n",
    "\n",
    "st_type_size_id – id типа размера магазина;\n",
    "\n",
    "st_is_active – флаг активного магазина на данный момент.\n"
   ]
  },
  {
   "cell_type": "code",
   "execution_count": 6,
   "id": "fe0ddb44",
   "metadata": {},
   "outputs": [],
   "source": [
    "def def_about(data):\n",
    "    \n",
    "    print('Tип данных, диапазон, столбцы, количество записей в каждом столбце, если столбцы не равны нулю')\n",
    "    print('                                  ')\n",
    "    data.info()\n",
    "    print('                                  ')      \n",
    "    print('Пример случайных строк из датасета')\n",
    "    print('                                  ')     \n",
    "    display(data.sample(n=10, random_state=12345))\n",
    "    print('                                  ')     \n",
    "    print('Разброс значений, среднее и медиана')\n",
    "    print('                                  ')    \n",
    "    print(data.describe().T)\n",
    "    print('                                  ') \n",
    "    len_data = len(data)\n",
    "    print('Количество записей: \\t {0}'.format(len_data))\n",
    "    print('                                  ') \n",
    "    print('Количество столбцов: \\t {0}'.format(len(data.columns)))\n",
    "    print('                                  ') \n",
    "    count = 0\n",
    "    for col in data.columns:\n",
    "        notnull = data[col].notna().sum()\n",
    "        if notnull < len_data:\n",
    "            count+=1\n",
    "    print('Пропуски присутствуют в {} столбцах из {}'.format(count,len(data.columns)))\n",
    "    print('                                  ') \n",
    "    print('Количество явных дубликатов данных: {}'.format(data.duplicated().sum()))\n",
    "    print('                                  ') \n",
    "    "
   ]
  },
  {
   "cell_type": "code",
   "execution_count": 7,
   "id": "b7b95e16",
   "metadata": {},
   "outputs": [
    {
     "name": "stdout",
     "output_type": "stream",
     "text": [
      "Tип данных, диапазон, столбцы, количество записей в каждом столбце, если столбцы не равны нулю\n",
      "                                  \n",
      "<class 'pandas.core.frame.DataFrame'>\n",
      "RangeIndex: 2050 entries, 0 to 2049\n",
      "Data columns (total 5 columns):\n",
      " #   Column        Non-Null Count  Dtype \n",
      "---  ------        --------------  ----- \n",
      " 0   pr_sku_id     2050 non-null   object\n",
      " 1   pr_group_id   2050 non-null   object\n",
      " 2   pr_cat_id     2050 non-null   object\n",
      " 3   pr_subcat_id  2050 non-null   object\n",
      " 4   pr_uom_id     2050 non-null   int64 \n",
      "dtypes: int64(1), object(4)\n",
      "memory usage: 80.2+ KB\n",
      "                                  \n",
      "Пример случайных строк из датасета\n",
      "                                  \n"
     ]
    },
    {
     "data": {
      "text/html": [
       "<div>\n",
       "<style scoped>\n",
       "    .dataframe tbody tr th:only-of-type {\n",
       "        vertical-align: middle;\n",
       "    }\n",
       "\n",
       "    .dataframe tbody tr th {\n",
       "        vertical-align: top;\n",
       "    }\n",
       "\n",
       "    .dataframe thead th {\n",
       "        text-align: right;\n",
       "    }\n",
       "</style>\n",
       "<table border=\"1\" class=\"dataframe\">\n",
       "  <thead>\n",
       "    <tr style=\"text-align: right;\">\n",
       "      <th></th>\n",
       "      <th>pr_sku_id</th>\n",
       "      <th>pr_group_id</th>\n",
       "      <th>pr_cat_id</th>\n",
       "      <th>pr_subcat_id</th>\n",
       "      <th>pr_uom_id</th>\n",
       "    </tr>\n",
       "  </thead>\n",
       "  <tbody>\n",
       "    <tr>\n",
       "      <th>1713</th>\n",
       "      <td>4792d399b0cc6e8223fdb5b130e9387f</td>\n",
       "      <td>c74d97b01eae257e44aa9d5bade97baf</td>\n",
       "      <td>a368b0de8b91cfb3f91892fbf1ebd4b2</td>\n",
       "      <td>8feef08314d477a5b68ba18a6d35819d</td>\n",
       "      <td>17</td>\n",
       "    </tr>\n",
       "    <tr>\n",
       "      <th>467</th>\n",
       "      <td>6dc2d6abe22eaa15ea066134c983f2ac</td>\n",
       "      <td>c20ad4d76fe97759aa27a0c99bff6710</td>\n",
       "      <td>fb2fcd534b0ff3bbed73cc51df620323</td>\n",
       "      <td>f222c0d412b9a812f556597c95540276</td>\n",
       "      <td>1</td>\n",
       "    </tr>\n",
       "    <tr>\n",
       "      <th>1380</th>\n",
       "      <td>e8d0f573ac95947eeb28ff622fade5c6</td>\n",
       "      <td>c74d97b01eae257e44aa9d5bade97baf</td>\n",
       "      <td>c559da2ba967eb820766939a658022c8</td>\n",
       "      <td>41b1d51c9e3ba9a263361f9cfa0eb434</td>\n",
       "      <td>17</td>\n",
       "    </tr>\n",
       "    <tr>\n",
       "      <th>763</th>\n",
       "      <td>5839d00df7c33f98615fd2aaf9c87389</td>\n",
       "      <td>6512bd43d9caa6e02c990b0a82652dca</td>\n",
       "      <td>e58cc5ca94270acaceed13bc82dfedf7</td>\n",
       "      <td>c93c26cd49ea08e6b8984351d4164575</td>\n",
       "      <td>1</td>\n",
       "    </tr>\n",
       "    <tr>\n",
       "      <th>989</th>\n",
       "      <td>426157fed5629835a7d6217bbefccac9</td>\n",
       "      <td>aab3238922bcc25a6f606eb525ffdc56</td>\n",
       "      <td>28fc2782ea7ef51c1104ccf7b9bea13d</td>\n",
       "      <td>6bae9a61fa499b24f28c3ddcef6ccb1b</td>\n",
       "      <td>1</td>\n",
       "    </tr>\n",
       "    <tr>\n",
       "      <th>666</th>\n",
       "      <td>ef483b1a0ab164698fe9b232706f66ab</td>\n",
       "      <td>aab3238922bcc25a6f606eb525ffdc56</td>\n",
       "      <td>3de2334a314a7a72721f1f74a6cb4cee</td>\n",
       "      <td>cdfcda17c8ab17c2b917505c0264e471</td>\n",
       "      <td>17</td>\n",
       "    </tr>\n",
       "    <tr>\n",
       "      <th>1321</th>\n",
       "      <td>1142167b4bf803ff64a3ddc2e2211a2d</td>\n",
       "      <td>aab3238922bcc25a6f606eb525ffdc56</td>\n",
       "      <td>28fc2782ea7ef51c1104ccf7b9bea13d</td>\n",
       "      <td>485095ca4d0494dc265ad8de07ec107b</td>\n",
       "      <td>1</td>\n",
       "    </tr>\n",
       "    <tr>\n",
       "      <th>686</th>\n",
       "      <td>05a0b334e897df620ab915d173636099</td>\n",
       "      <td>c74d97b01eae257e44aa9d5bade97baf</td>\n",
       "      <td>f3173935ed8ac4bf073c1bcd63171f8a</td>\n",
       "      <td>cf6faa5b09823f159e09a786cba0dd88</td>\n",
       "      <td>1</td>\n",
       "    </tr>\n",
       "    <tr>\n",
       "      <th>462</th>\n",
       "      <td>be2eb3bcc9ebeba04e0441004e9a674b</td>\n",
       "      <td>c51ce410c124a10e0db5e4b97fc2af39</td>\n",
       "      <td>fd5c905bcd8c3348ad1b35d7231ee2b1</td>\n",
       "      <td>3dde95bfddfc5c387eb9e7b7a77dfa63</td>\n",
       "      <td>1</td>\n",
       "    </tr>\n",
       "    <tr>\n",
       "      <th>331</th>\n",
       "      <td>1315c014e0e20f2ffbe8c0bc455bce9c</td>\n",
       "      <td>aab3238922bcc25a6f606eb525ffdc56</td>\n",
       "      <td>28fc2782ea7ef51c1104ccf7b9bea13d</td>\n",
       "      <td>7a8aebb07d6e8ba9da453ec0f3f359a4</td>\n",
       "      <td>1</td>\n",
       "    </tr>\n",
       "  </tbody>\n",
       "</table>\n",
       "</div>"
      ],
      "text/plain": [
       "                             pr_sku_id                       pr_group_id  \\\n",
       "1713  4792d399b0cc6e8223fdb5b130e9387f  c74d97b01eae257e44aa9d5bade97baf   \n",
       "467   6dc2d6abe22eaa15ea066134c983f2ac  c20ad4d76fe97759aa27a0c99bff6710   \n",
       "1380  e8d0f573ac95947eeb28ff622fade5c6  c74d97b01eae257e44aa9d5bade97baf   \n",
       "763   5839d00df7c33f98615fd2aaf9c87389  6512bd43d9caa6e02c990b0a82652dca   \n",
       "989   426157fed5629835a7d6217bbefccac9  aab3238922bcc25a6f606eb525ffdc56   \n",
       "666   ef483b1a0ab164698fe9b232706f66ab  aab3238922bcc25a6f606eb525ffdc56   \n",
       "1321  1142167b4bf803ff64a3ddc2e2211a2d  aab3238922bcc25a6f606eb525ffdc56   \n",
       "686   05a0b334e897df620ab915d173636099  c74d97b01eae257e44aa9d5bade97baf   \n",
       "462   be2eb3bcc9ebeba04e0441004e9a674b  c51ce410c124a10e0db5e4b97fc2af39   \n",
       "331   1315c014e0e20f2ffbe8c0bc455bce9c  aab3238922bcc25a6f606eb525ffdc56   \n",
       "\n",
       "                             pr_cat_id                      pr_subcat_id  \\\n",
       "1713  a368b0de8b91cfb3f91892fbf1ebd4b2  8feef08314d477a5b68ba18a6d35819d   \n",
       "467   fb2fcd534b0ff3bbed73cc51df620323  f222c0d412b9a812f556597c95540276   \n",
       "1380  c559da2ba967eb820766939a658022c8  41b1d51c9e3ba9a263361f9cfa0eb434   \n",
       "763   e58cc5ca94270acaceed13bc82dfedf7  c93c26cd49ea08e6b8984351d4164575   \n",
       "989   28fc2782ea7ef51c1104ccf7b9bea13d  6bae9a61fa499b24f28c3ddcef6ccb1b   \n",
       "666   3de2334a314a7a72721f1f74a6cb4cee  cdfcda17c8ab17c2b917505c0264e471   \n",
       "1321  28fc2782ea7ef51c1104ccf7b9bea13d  485095ca4d0494dc265ad8de07ec107b   \n",
       "686   f3173935ed8ac4bf073c1bcd63171f8a  cf6faa5b09823f159e09a786cba0dd88   \n",
       "462   fd5c905bcd8c3348ad1b35d7231ee2b1  3dde95bfddfc5c387eb9e7b7a77dfa63   \n",
       "331   28fc2782ea7ef51c1104ccf7b9bea13d  7a8aebb07d6e8ba9da453ec0f3f359a4   \n",
       "\n",
       "      pr_uom_id  \n",
       "1713         17  \n",
       "467           1  \n",
       "1380         17  \n",
       "763           1  \n",
       "989           1  \n",
       "666          17  \n",
       "1321          1  \n",
       "686           1  \n",
       "462           1  \n",
       "331           1  "
      ]
     },
     "metadata": {},
     "output_type": "display_data"
    },
    {
     "name": "stdout",
     "output_type": "stream",
     "text": [
      "                                  \n",
      "Разброс значений, среднее и медиана\n",
      "                                  \n",
      "            count      mean       std  min  25%  50%   75%   max\n",
      "pr_uom_id  2050.0  7.017561  7.752371  1.0  1.0  1.0  17.0  17.0\n",
      "                                  \n",
      "Количество записей: \t 2050\n",
      "                                  \n",
      "Количество столбцов: \t 5\n",
      "                                  \n",
      "Пропуски присутствуют в 0 столбцах из 5\n",
      "                                  \n",
      "Количество явных дубликатов данных: 0\n",
      "                                  \n"
     ]
    }
   ],
   "source": [
    "def_about(pr_df)"
   ]
  },
  {
   "cell_type": "code",
   "execution_count": 8,
   "id": "d8b5214c",
   "metadata": {},
   "outputs": [
    {
     "name": "stdout",
     "output_type": "stream",
     "text": [
      "Tип данных, диапазон, столбцы, количество записей в каждом столбце, если столбцы не равны нулю\n",
      "                                  \n",
      "<class 'pandas.core.frame.DataFrame'>\n",
      "RangeIndex: 883015 entries, 0 to 883014\n",
      "Data columns (total 8 columns):\n",
      " #   Column                   Non-Null Count   Dtype  \n",
      "---  ------                   --------------   -----  \n",
      " 0   st_id                    883015 non-null  object \n",
      " 1   pr_sku_id                883015 non-null  object \n",
      " 2   date                     883015 non-null  object \n",
      " 3   pr_sales_type_id         883015 non-null  int64  \n",
      " 4   pr_sales_in_units        883015 non-null  float64\n",
      " 5   pr_promo_sales_in_units  883015 non-null  float64\n",
      " 6   pr_sales_in_rub          883015 non-null  float64\n",
      " 7   pr_promo_sales_in_rub    883015 non-null  float64\n",
      "dtypes: float64(4), int64(1), object(3)\n",
      "memory usage: 53.9+ MB\n",
      "                                  \n",
      "Пример случайных строк из датасета\n",
      "                                  \n"
     ]
    },
    {
     "data": {
      "text/html": [
       "<div>\n",
       "<style scoped>\n",
       "    .dataframe tbody tr th:only-of-type {\n",
       "        vertical-align: middle;\n",
       "    }\n",
       "\n",
       "    .dataframe tbody tr th {\n",
       "        vertical-align: top;\n",
       "    }\n",
       "\n",
       "    .dataframe thead th {\n",
       "        text-align: right;\n",
       "    }\n",
       "</style>\n",
       "<table border=\"1\" class=\"dataframe\">\n",
       "  <thead>\n",
       "    <tr style=\"text-align: right;\">\n",
       "      <th></th>\n",
       "      <th>st_id</th>\n",
       "      <th>pr_sku_id</th>\n",
       "      <th>date</th>\n",
       "      <th>pr_sales_type_id</th>\n",
       "      <th>pr_sales_in_units</th>\n",
       "      <th>pr_promo_sales_in_units</th>\n",
       "      <th>pr_sales_in_rub</th>\n",
       "      <th>pr_promo_sales_in_rub</th>\n",
       "    </tr>\n",
       "  </thead>\n",
       "  <tbody>\n",
       "    <tr>\n",
       "      <th>55032</th>\n",
       "      <td>fa7cdfad1a5aaf8370ebeda47a1ff1c3</td>\n",
       "      <td>b610088ddf586449793d3c6da70d4c56</td>\n",
       "      <td>2022-10-25</td>\n",
       "      <td>1</td>\n",
       "      <td>6.0</td>\n",
       "      <td>6.0</td>\n",
       "      <td>1293.0</td>\n",
       "      <td>1293.0</td>\n",
       "    </tr>\n",
       "    <tr>\n",
       "      <th>644590</th>\n",
       "      <td>f7e6c85504ce6e82442c770f7c8606f0</td>\n",
       "      <td>f25745018bf22f005d1f198e2552191f</td>\n",
       "      <td>2022-09-27</td>\n",
       "      <td>0</td>\n",
       "      <td>3.0</td>\n",
       "      <td>0.0</td>\n",
       "      <td>262.0</td>\n",
       "      <td>0.0</td>\n",
       "    </tr>\n",
       "    <tr>\n",
       "      <th>517895</th>\n",
       "      <td>42a0e188f5033bc65bf8d78622277c4e</td>\n",
       "      <td>e4522fed8db6c62127eedea2fe1634bd</td>\n",
       "      <td>2022-12-11</td>\n",
       "      <td>0</td>\n",
       "      <td>4.0</td>\n",
       "      <td>0.0</td>\n",
       "      <td>147.0</td>\n",
       "      <td>0.0</td>\n",
       "    </tr>\n",
       "    <tr>\n",
       "      <th>845470</th>\n",
       "      <td>1ecfb463472ec9115b10c292ef8bc986</td>\n",
       "      <td>62d4af457ba2540ce0898a211c0cd17a</td>\n",
       "      <td>2022-09-08</td>\n",
       "      <td>1</td>\n",
       "      <td>2.0</td>\n",
       "      <td>2.0</td>\n",
       "      <td>25.0</td>\n",
       "      <td>25.0</td>\n",
       "    </tr>\n",
       "    <tr>\n",
       "      <th>554615</th>\n",
       "      <td>6364d3f0f495b6ab9dcf8d3b5c6e0b01</td>\n",
       "      <td>bf5f373eede102c71bf77874c78bdc59</td>\n",
       "      <td>2023-02-02</td>\n",
       "      <td>1</td>\n",
       "      <td>1.0</td>\n",
       "      <td>1.0</td>\n",
       "      <td>151.0</td>\n",
       "      <td>151.0</td>\n",
       "    </tr>\n",
       "    <tr>\n",
       "      <th>660557</th>\n",
       "      <td>c81e728d9d4c2f636f067f89cc14862c</td>\n",
       "      <td>a4680e47cdf0ef37aeb19717a9d1968c</td>\n",
       "      <td>2023-02-03</td>\n",
       "      <td>0</td>\n",
       "      <td>3.0</td>\n",
       "      <td>0.0</td>\n",
       "      <td>599.0</td>\n",
       "      <td>0.0</td>\n",
       "    </tr>\n",
       "    <tr>\n",
       "      <th>616800</th>\n",
       "      <td>1ecfb463472ec9115b10c292ef8bc986</td>\n",
       "      <td>5f86639bbaacbed711e89635b602cc75</td>\n",
       "      <td>2023-03-13</td>\n",
       "      <td>1</td>\n",
       "      <td>2.0</td>\n",
       "      <td>2.0</td>\n",
       "      <td>105.0</td>\n",
       "      <td>105.0</td>\n",
       "    </tr>\n",
       "    <tr>\n",
       "      <th>643741</th>\n",
       "      <td>f7e6c85504ce6e82442c770f7c8606f0</td>\n",
       "      <td>f8e67df2dd557f44074271107ab9781a</td>\n",
       "      <td>2022-09-09</td>\n",
       "      <td>0</td>\n",
       "      <td>3.0</td>\n",
       "      <td>0.0</td>\n",
       "      <td>313.0</td>\n",
       "      <td>0.0</td>\n",
       "    </tr>\n",
       "    <tr>\n",
       "      <th>256837</th>\n",
       "      <td>f7e6c85504ce6e82442c770f7c8606f0</td>\n",
       "      <td>364196813f3b746270a9b27bd76149c9</td>\n",
       "      <td>2022-09-24</td>\n",
       "      <td>0</td>\n",
       "      <td>11.0</td>\n",
       "      <td>0.0</td>\n",
       "      <td>2945.0</td>\n",
       "      <td>0.0</td>\n",
       "    </tr>\n",
       "    <tr>\n",
       "      <th>437173</th>\n",
       "      <td>16a5cdae362b8d27a1d8f8c7b78b4330</td>\n",
       "      <td>8cc3c766285e320aef48183a4bbe22d1</td>\n",
       "      <td>2022-11-20</td>\n",
       "      <td>0</td>\n",
       "      <td>7.0</td>\n",
       "      <td>0.0</td>\n",
       "      <td>332.0</td>\n",
       "      <td>0.0</td>\n",
       "    </tr>\n",
       "  </tbody>\n",
       "</table>\n",
       "</div>"
      ],
      "text/plain": [
       "                                   st_id                         pr_sku_id  \\\n",
       "55032   fa7cdfad1a5aaf8370ebeda47a1ff1c3  b610088ddf586449793d3c6da70d4c56   \n",
       "644590  f7e6c85504ce6e82442c770f7c8606f0  f25745018bf22f005d1f198e2552191f   \n",
       "517895  42a0e188f5033bc65bf8d78622277c4e  e4522fed8db6c62127eedea2fe1634bd   \n",
       "845470  1ecfb463472ec9115b10c292ef8bc986  62d4af457ba2540ce0898a211c0cd17a   \n",
       "554615  6364d3f0f495b6ab9dcf8d3b5c6e0b01  bf5f373eede102c71bf77874c78bdc59   \n",
       "660557  c81e728d9d4c2f636f067f89cc14862c  a4680e47cdf0ef37aeb19717a9d1968c   \n",
       "616800  1ecfb463472ec9115b10c292ef8bc986  5f86639bbaacbed711e89635b602cc75   \n",
       "643741  f7e6c85504ce6e82442c770f7c8606f0  f8e67df2dd557f44074271107ab9781a   \n",
       "256837  f7e6c85504ce6e82442c770f7c8606f0  364196813f3b746270a9b27bd76149c9   \n",
       "437173  16a5cdae362b8d27a1d8f8c7b78b4330  8cc3c766285e320aef48183a4bbe22d1   \n",
       "\n",
       "              date  pr_sales_type_id  pr_sales_in_units  \\\n",
       "55032   2022-10-25                 1                6.0   \n",
       "644590  2022-09-27                 0                3.0   \n",
       "517895  2022-12-11                 0                4.0   \n",
       "845470  2022-09-08                 1                2.0   \n",
       "554615  2023-02-02                 1                1.0   \n",
       "660557  2023-02-03                 0                3.0   \n",
       "616800  2023-03-13                 1                2.0   \n",
       "643741  2022-09-09                 0                3.0   \n",
       "256837  2022-09-24                 0               11.0   \n",
       "437173  2022-11-20                 0                7.0   \n",
       "\n",
       "        pr_promo_sales_in_units  pr_sales_in_rub  pr_promo_sales_in_rub  \n",
       "55032                       6.0           1293.0                 1293.0  \n",
       "644590                      0.0            262.0                    0.0  \n",
       "517895                      0.0            147.0                    0.0  \n",
       "845470                      2.0             25.0                   25.0  \n",
       "554615                      1.0            151.0                  151.0  \n",
       "660557                      0.0            599.0                    0.0  \n",
       "616800                      2.0            105.0                  105.0  \n",
       "643741                      0.0            313.0                    0.0  \n",
       "256837                      0.0           2945.0                    0.0  \n",
       "437173                      0.0            332.0                    0.0  "
      ]
     },
     "metadata": {},
     "output_type": "display_data"
    },
    {
     "name": "stdout",
     "output_type": "stream",
     "text": [
      "                                  \n",
      "Разброс значений, среднее и медиана\n",
      "                                  \n",
      "                            count        mean          std     min   25%  \\\n",
      "pr_sales_type_id         883015.0    0.406486     0.491178     0.0   0.0   \n",
      "pr_sales_in_units        883015.0    5.037956    13.402984   -39.0   1.0   \n",
      "pr_promo_sales_in_units  883015.0    2.230010    11.063288   -39.0   0.0   \n",
      "pr_sales_in_rub          883015.0  596.705181  1577.366179 -3373.0  98.0   \n",
      "pr_promo_sales_in_rub    883015.0  294.766561  1402.764168 -3373.0   0.0   \n",
      "\n",
      "                           50%    75%       max  \n",
      "pr_sales_type_id           0.0    1.0       1.0  \n",
      "pr_sales_in_units          2.0    4.0    2348.0  \n",
      "pr_promo_sales_in_units    0.0    1.0    2348.0  \n",
      "pr_sales_in_rub          224.0  540.0  183265.0  \n",
      "pr_promo_sales_in_rub      0.0  127.0  183265.0  \n",
      "                                  \n",
      "Количество записей: \t 883015\n",
      "                                  \n",
      "Количество столбцов: \t 8\n",
      "                                  \n",
      "Пропуски присутствуют в 0 столбцах из 8\n",
      "                                  \n",
      "Количество явных дубликатов данных: 0\n",
      "                                  \n"
     ]
    }
   ],
   "source": [
    "def_about(sales_df_train)"
   ]
  },
  {
   "cell_type": "code",
   "execution_count": 9,
   "id": "52426e74",
   "metadata": {},
   "outputs": [
    {
     "name": "stdout",
     "output_type": "stream",
     "text": [
      "Tип данных, диапазон, столбцы, количество записей в каждом столбце, если столбцы не равны нулю\n",
      "                                  \n",
      "<class 'pandas.core.frame.DataFrame'>\n",
      "RangeIndex: 43694 entries, 0 to 43693\n",
      "Data columns (total 4 columns):\n",
      " #   Column     Non-Null Count  Dtype \n",
      "---  ------     --------------  ----- \n",
      " 0   st_id      43694 non-null  object\n",
      " 1   pr_sku_id  43694 non-null  object\n",
      " 2   date       43694 non-null  object\n",
      " 3   target     43694 non-null  int64 \n",
      "dtypes: int64(1), object(3)\n",
      "memory usage: 1.3+ MB\n",
      "                                  \n",
      "Пример случайных строк из датасета\n",
      "                                  \n"
     ]
    },
    {
     "data": {
      "text/html": [
       "<div>\n",
       "<style scoped>\n",
       "    .dataframe tbody tr th:only-of-type {\n",
       "        vertical-align: middle;\n",
       "    }\n",
       "\n",
       "    .dataframe tbody tr th {\n",
       "        vertical-align: top;\n",
       "    }\n",
       "\n",
       "    .dataframe thead th {\n",
       "        text-align: right;\n",
       "    }\n",
       "</style>\n",
       "<table border=\"1\" class=\"dataframe\">\n",
       "  <thead>\n",
       "    <tr style=\"text-align: right;\">\n",
       "      <th></th>\n",
       "      <th>st_id</th>\n",
       "      <th>pr_sku_id</th>\n",
       "      <th>date</th>\n",
       "      <th>target</th>\n",
       "    </tr>\n",
       "  </thead>\n",
       "  <tbody>\n",
       "    <tr>\n",
       "      <th>41016</th>\n",
       "      <td>16a5cdae362b8d27a1d8f8c7b78b4330</td>\n",
       "      <td>cfa2eba0e5c031e0d78a6b4529882e80</td>\n",
       "      <td>2023-08-01</td>\n",
       "      <td>0</td>\n",
       "    </tr>\n",
       "    <tr>\n",
       "      <th>40372</th>\n",
       "      <td>fa7cdfad1a5aaf8370ebeda47a1ff1c3</td>\n",
       "      <td>880eacb0f685ac0b2a134d819a077d64</td>\n",
       "      <td>2023-07-31</td>\n",
       "      <td>0</td>\n",
       "    </tr>\n",
       "    <tr>\n",
       "      <th>16125</th>\n",
       "      <td>16a5cdae362b8d27a1d8f8c7b78b4330</td>\n",
       "      <td>f07e911d46314ccb8f06a7ac863159df</td>\n",
       "      <td>2023-07-26</td>\n",
       "      <td>0</td>\n",
       "    </tr>\n",
       "    <tr>\n",
       "      <th>6589</th>\n",
       "      <td>16a5cdae362b8d27a1d8f8c7b78b4330</td>\n",
       "      <td>a3efb98822777de56766f50b73f62682</td>\n",
       "      <td>2023-07-22</td>\n",
       "      <td>0</td>\n",
       "    </tr>\n",
       "    <tr>\n",
       "      <th>16412</th>\n",
       "      <td>42a0e188f5033bc65bf8d78622277c4e</td>\n",
       "      <td>3c6d5538de13300a189c89d4f1e18624</td>\n",
       "      <td>2023-07-26</td>\n",
       "      <td>0</td>\n",
       "    </tr>\n",
       "    <tr>\n",
       "      <th>11785</th>\n",
       "      <td>f7e6c85504ce6e82442c770f7c8606f0</td>\n",
       "      <td>62d4af457ba2540ce0898a211c0cd17a</td>\n",
       "      <td>2023-07-24</td>\n",
       "      <td>0</td>\n",
       "    </tr>\n",
       "    <tr>\n",
       "      <th>36213</th>\n",
       "      <td>c81e728d9d4c2f636f067f89cc14862c</td>\n",
       "      <td>525054066e1d6e94a6ad56078f4b212d</td>\n",
       "      <td>2023-07-30</td>\n",
       "      <td>0</td>\n",
       "    </tr>\n",
       "    <tr>\n",
       "      <th>43326</th>\n",
       "      <td>fa7cdfad1a5aaf8370ebeda47a1ff1c3</td>\n",
       "      <td>2df818c9b00c8a0b0beb4b47aa78d6d4</td>\n",
       "      <td>2023-08-01</td>\n",
       "      <td>0</td>\n",
       "    </tr>\n",
       "    <tr>\n",
       "      <th>32727</th>\n",
       "      <td>6364d3f0f495b6ab9dcf8d3b5c6e0b01</td>\n",
       "      <td>996200890299d6633aefad9073dba4e2</td>\n",
       "      <td>2023-07-29</td>\n",
       "      <td>0</td>\n",
       "    </tr>\n",
       "    <tr>\n",
       "      <th>18433</th>\n",
       "      <td>fa7cdfad1a5aaf8370ebeda47a1ff1c3</td>\n",
       "      <td>5963deb0a145213e5b69c75e3953602b</td>\n",
       "      <td>2023-07-26</td>\n",
       "      <td>0</td>\n",
       "    </tr>\n",
       "  </tbody>\n",
       "</table>\n",
       "</div>"
      ],
      "text/plain": [
       "                                  st_id                         pr_sku_id  \\\n",
       "41016  16a5cdae362b8d27a1d8f8c7b78b4330  cfa2eba0e5c031e0d78a6b4529882e80   \n",
       "40372  fa7cdfad1a5aaf8370ebeda47a1ff1c3  880eacb0f685ac0b2a134d819a077d64   \n",
       "16125  16a5cdae362b8d27a1d8f8c7b78b4330  f07e911d46314ccb8f06a7ac863159df   \n",
       "6589   16a5cdae362b8d27a1d8f8c7b78b4330  a3efb98822777de56766f50b73f62682   \n",
       "16412  42a0e188f5033bc65bf8d78622277c4e  3c6d5538de13300a189c89d4f1e18624   \n",
       "11785  f7e6c85504ce6e82442c770f7c8606f0  62d4af457ba2540ce0898a211c0cd17a   \n",
       "36213  c81e728d9d4c2f636f067f89cc14862c  525054066e1d6e94a6ad56078f4b212d   \n",
       "43326  fa7cdfad1a5aaf8370ebeda47a1ff1c3  2df818c9b00c8a0b0beb4b47aa78d6d4   \n",
       "32727  6364d3f0f495b6ab9dcf8d3b5c6e0b01  996200890299d6633aefad9073dba4e2   \n",
       "18433  fa7cdfad1a5aaf8370ebeda47a1ff1c3  5963deb0a145213e5b69c75e3953602b   \n",
       "\n",
       "             date  target  \n",
       "41016  2023-08-01       0  \n",
       "40372  2023-07-31       0  \n",
       "16125  2023-07-26       0  \n",
       "6589   2023-07-22       0  \n",
       "16412  2023-07-26       0  \n",
       "11785  2023-07-24       0  \n",
       "36213  2023-07-30       0  \n",
       "43326  2023-08-01       0  \n",
       "32727  2023-07-29       0  \n",
       "18433  2023-07-26       0  "
      ]
     },
     "metadata": {},
     "output_type": "display_data"
    },
    {
     "name": "stdout",
     "output_type": "stream",
     "text": [
      "                                  \n",
      "Разброс значений, среднее и медиана\n",
      "                                  \n",
      "          count  mean  std  min  25%  50%  75%  max\n",
      "target  43694.0   0.0  0.0  0.0  0.0  0.0  0.0  0.0\n",
      "                                  \n",
      "Количество записей: \t 43694\n",
      "                                  \n",
      "Количество столбцов: \t 4\n",
      "                                  \n",
      "Пропуски присутствуют в 0 столбцах из 4\n",
      "                                  \n",
      "Количество явных дубликатов данных: 0\n",
      "                                  \n"
     ]
    }
   ],
   "source": [
    "def_about(sales_submission)"
   ]
  },
  {
   "cell_type": "code",
   "execution_count": 10,
   "id": "dd211ee2",
   "metadata": {},
   "outputs": [
    {
     "name": "stdout",
     "output_type": "stream",
     "text": [
      "Tип данных, диапазон, столбцы, количество записей в каждом столбце, если столбцы не равны нулю\n",
      "                                  \n",
      "<class 'pandas.core.frame.DataFrame'>\n",
      "RangeIndex: 12 entries, 0 to 11\n",
      "Data columns (total 7 columns):\n",
      " #   Column             Non-Null Count  Dtype \n",
      "---  ------             --------------  ----- \n",
      " 0   st_id              12 non-null     object\n",
      " 1   st_city_id         12 non-null     object\n",
      " 2   st_division_code   12 non-null     object\n",
      " 3   st_type_format_id  12 non-null     int64 \n",
      " 4   st_type_loc_id     12 non-null     int64 \n",
      " 5   st_type_size_id    12 non-null     int64 \n",
      " 6   st_is_active       12 non-null     int64 \n",
      "dtypes: int64(4), object(3)\n",
      "memory usage: 800.0+ bytes\n",
      "                                  \n",
      "Пример случайных строк из датасета\n",
      "                                  \n"
     ]
    },
    {
     "data": {
      "text/html": [
       "<div>\n",
       "<style scoped>\n",
       "    .dataframe tbody tr th:only-of-type {\n",
       "        vertical-align: middle;\n",
       "    }\n",
       "\n",
       "    .dataframe tbody tr th {\n",
       "        vertical-align: top;\n",
       "    }\n",
       "\n",
       "    .dataframe thead th {\n",
       "        text-align: right;\n",
       "    }\n",
       "</style>\n",
       "<table border=\"1\" class=\"dataframe\">\n",
       "  <thead>\n",
       "    <tr style=\"text-align: right;\">\n",
       "      <th></th>\n",
       "      <th>st_id</th>\n",
       "      <th>st_city_id</th>\n",
       "      <th>st_division_code</th>\n",
       "      <th>st_type_format_id</th>\n",
       "      <th>st_type_loc_id</th>\n",
       "      <th>st_type_size_id</th>\n",
       "      <th>st_is_active</th>\n",
       "    </tr>\n",
       "  </thead>\n",
       "  <tbody>\n",
       "    <tr>\n",
       "      <th>8</th>\n",
       "      <td>fa7cdfad1a5aaf8370ebeda47a1ff1c3</td>\n",
       "      <td>885fe656777008c335ac96072a45be15</td>\n",
       "      <td>296bd0cc6e735f9d7488ebc8fbc19130</td>\n",
       "      <td>1</td>\n",
       "      <td>1</td>\n",
       "      <td>12</td>\n",
       "      <td>1</td>\n",
       "    </tr>\n",
       "    <tr>\n",
       "      <th>0</th>\n",
       "      <td>1aa057313c28fa4a40c5bc084b11d276</td>\n",
       "      <td>1587965fb4d4b5afe8428a4a024feb0d</td>\n",
       "      <td>81b4dd343f5880df806d4c5d4a846c64</td>\n",
       "      <td>4</td>\n",
       "      <td>3</td>\n",
       "      <td>19</td>\n",
       "      <td>0</td>\n",
       "    </tr>\n",
       "    <tr>\n",
       "      <th>3</th>\n",
       "      <td>1ecfb463472ec9115b10c292ef8bc986</td>\n",
       "      <td>908c9a564a86426585b29f5335b619bc</td>\n",
       "      <td>429a86ff6336c144ddaf6144f52ab52c</td>\n",
       "      <td>2</td>\n",
       "      <td>1</td>\n",
       "      <td>28</td>\n",
       "      <td>1</td>\n",
       "    </tr>\n",
       "    <tr>\n",
       "      <th>7</th>\n",
       "      <td>c81e728d9d4c2f636f067f89cc14862c</td>\n",
       "      <td>908c9a564a86426585b29f5335b619bc</td>\n",
       "      <td>429a86ff6336c144ddaf6144f52ab52c</td>\n",
       "      <td>1</td>\n",
       "      <td>1</td>\n",
       "      <td>8</td>\n",
       "      <td>1</td>\n",
       "    </tr>\n",
       "    <tr>\n",
       "      <th>11</th>\n",
       "      <td>084a8a9aa8cced9175bd07bc44998e75</td>\n",
       "      <td>3202111cf90e7c816a472aaceb72b0df</td>\n",
       "      <td>32586311f16876abf92901085bd87b99</td>\n",
       "      <td>4</td>\n",
       "      <td>3</td>\n",
       "      <td>19</td>\n",
       "      <td>1</td>\n",
       "    </tr>\n",
       "    <tr>\n",
       "      <th>10</th>\n",
       "      <td>62f91ce9b820a491ee78c108636db089</td>\n",
       "      <td>1587965fb4d4b5afe8428a4a024feb0d</td>\n",
       "      <td>81b4dd343f5880df806d4c5d4a846c64</td>\n",
       "      <td>4</td>\n",
       "      <td>3</td>\n",
       "      <td>32</td>\n",
       "      <td>0</td>\n",
       "    </tr>\n",
       "    <tr>\n",
       "      <th>6</th>\n",
       "      <td>42a0e188f5033bc65bf8d78622277c4e</td>\n",
       "      <td>b8b4b727d6f5d1b61fff7be687f7970f</td>\n",
       "      <td>da742b3cfca5388aaf9af28a726a3c30</td>\n",
       "      <td>1</td>\n",
       "      <td>1</td>\n",
       "      <td>12</td>\n",
       "      <td>1</td>\n",
       "    </tr>\n",
       "    <tr>\n",
       "      <th>9</th>\n",
       "      <td>f7e6c85504ce6e82442c770f7c8606f0</td>\n",
       "      <td>3202111cf90e7c816a472aaceb72b0df</td>\n",
       "      <td>32586311f16876abf92901085bd87b99</td>\n",
       "      <td>1</td>\n",
       "      <td>1</td>\n",
       "      <td>12</td>\n",
       "      <td>1</td>\n",
       "    </tr>\n",
       "    <tr>\n",
       "      <th>4</th>\n",
       "      <td>16a5cdae362b8d27a1d8f8c7b78b4330</td>\n",
       "      <td>c1f75cc0f7fe269dd0fd9bd5e24f9586</td>\n",
       "      <td>296bd0cc6e735f9d7488ebc8fbc19130</td>\n",
       "      <td>1</td>\n",
       "      <td>2</td>\n",
       "      <td>8</td>\n",
       "      <td>1</td>\n",
       "    </tr>\n",
       "    <tr>\n",
       "      <th>1</th>\n",
       "      <td>bd470ca955d9497bbcb808e59952fffc</td>\n",
       "      <td>955d864a62659945cc9434898e275deb</td>\n",
       "      <td>e26072c92d8fe0738df44d571d5f5e8b</td>\n",
       "      <td>4</td>\n",
       "      <td>3</td>\n",
       "      <td>19</td>\n",
       "      <td>1</td>\n",
       "    </tr>\n",
       "  </tbody>\n",
       "</table>\n",
       "</div>"
      ],
      "text/plain": [
       "                               st_id                        st_city_id  \\\n",
       "8   fa7cdfad1a5aaf8370ebeda47a1ff1c3  885fe656777008c335ac96072a45be15   \n",
       "0   1aa057313c28fa4a40c5bc084b11d276  1587965fb4d4b5afe8428a4a024feb0d   \n",
       "3   1ecfb463472ec9115b10c292ef8bc986  908c9a564a86426585b29f5335b619bc   \n",
       "7   c81e728d9d4c2f636f067f89cc14862c  908c9a564a86426585b29f5335b619bc   \n",
       "11  084a8a9aa8cced9175bd07bc44998e75  3202111cf90e7c816a472aaceb72b0df   \n",
       "10  62f91ce9b820a491ee78c108636db089  1587965fb4d4b5afe8428a4a024feb0d   \n",
       "6   42a0e188f5033bc65bf8d78622277c4e  b8b4b727d6f5d1b61fff7be687f7970f   \n",
       "9   f7e6c85504ce6e82442c770f7c8606f0  3202111cf90e7c816a472aaceb72b0df   \n",
       "4   16a5cdae362b8d27a1d8f8c7b78b4330  c1f75cc0f7fe269dd0fd9bd5e24f9586   \n",
       "1   bd470ca955d9497bbcb808e59952fffc  955d864a62659945cc9434898e275deb   \n",
       "\n",
       "                    st_division_code  st_type_format_id  st_type_loc_id  \\\n",
       "8   296bd0cc6e735f9d7488ebc8fbc19130                  1               1   \n",
       "0   81b4dd343f5880df806d4c5d4a846c64                  4               3   \n",
       "3   429a86ff6336c144ddaf6144f52ab52c                  2               1   \n",
       "7   429a86ff6336c144ddaf6144f52ab52c                  1               1   \n",
       "11  32586311f16876abf92901085bd87b99                  4               3   \n",
       "10  81b4dd343f5880df806d4c5d4a846c64                  4               3   \n",
       "6   da742b3cfca5388aaf9af28a726a3c30                  1               1   \n",
       "9   32586311f16876abf92901085bd87b99                  1               1   \n",
       "4   296bd0cc6e735f9d7488ebc8fbc19130                  1               2   \n",
       "1   e26072c92d8fe0738df44d571d5f5e8b                  4               3   \n",
       "\n",
       "    st_type_size_id  st_is_active  \n",
       "8                12             1  \n",
       "0                19             0  \n",
       "3                28             1  \n",
       "7                 8             1  \n",
       "11               19             1  \n",
       "10               32             0  \n",
       "6                12             1  \n",
       "9                12             1  \n",
       "4                 8             1  \n",
       "1                19             1  "
      ]
     },
     "metadata": {},
     "output_type": "display_data"
    },
    {
     "name": "stdout",
     "output_type": "stream",
     "text": [
      "                                  \n",
      "Разброс значений, среднее и медиана\n",
      "                                  \n",
      "                   count       mean       std  min   25%   50%    75%   max\n",
      "st_type_format_id   12.0   2.333333  1.497473  1.0   1.0   1.5   4.00   4.0\n",
      "st_type_loc_id      12.0   1.916667  0.996205  1.0   1.0   1.5   3.00   3.0\n",
      "st_type_size_id     12.0  16.750000  7.557356  8.0  12.0  15.5  19.25  32.0\n",
      "st_is_active        12.0   0.833333  0.389249  0.0   1.0   1.0   1.00   1.0\n",
      "                                  \n",
      "Количество записей: \t 12\n",
      "                                  \n",
      "Количество столбцов: \t 7\n",
      "                                  \n",
      "Пропуски присутствуют в 0 столбцах из 7\n",
      "                                  \n",
      "Количество явных дубликатов данных: 0\n",
      "                                  \n"
     ]
    }
   ],
   "source": [
    "def_about(st_df)"
   ]
  },
  {
   "cell_type": "code",
   "execution_count": 11,
   "id": "63a50e74",
   "metadata": {},
   "outputs": [],
   "source": [
    "sales_df_train['date'] = sales_df_train['date'].astype(\"datetime64[ns]\")"
   ]
  },
  {
   "cell_type": "code",
   "execution_count": 12,
   "id": "42bb4eca",
   "metadata": {},
   "outputs": [],
   "source": [
    "sales_df_train['day_of_week'] = sales_df_train['date'].dt.weekday"
   ]
  },
  {
   "cell_type": "code",
   "execution_count": 13,
   "id": "de62a9f1",
   "metadata": {},
   "outputs": [],
   "source": [
    "sales_df_train['day'] = sales_df_train['date'].dt.day"
   ]
  },
  {
   "cell_type": "code",
   "execution_count": 14,
   "id": "705b3c97",
   "metadata": {},
   "outputs": [],
   "source": [
    "sales_df_train['month'] = sales_df_train['date'].dt.month"
   ]
  },
  {
   "cell_type": "code",
   "execution_count": 15,
   "id": "f4079cf4",
   "metadata": {},
   "outputs": [],
   "source": [
    "sales_df_train['year'] = sales_df_train['date'].dt.year"
   ]
  },
  {
   "cell_type": "code",
   "execution_count": 16,
   "id": "17baafea",
   "metadata": {},
   "outputs": [],
   "source": [
    "data_merge = sales_df_train.merge(pr_df,on='pr_sku_id', how='left')"
   ]
  },
  {
   "cell_type": "code",
   "execution_count": 17,
   "id": "92774684",
   "metadata": {},
   "outputs": [],
   "source": [
    "df = data_merge.merge(st_df,on='st_id', how='left')"
   ]
  },
  {
   "cell_type": "code",
   "execution_count": 18,
   "id": "7ac8aa65",
   "metadata": {},
   "outputs": [],
   "source": [
    "df_clean = df.query(\"st_is_active > 0\")"
   ]
  },
  {
   "cell_type": "code",
   "execution_count": 19,
   "id": "6a77c093",
   "metadata": {
    "scrolled": true
   },
   "outputs": [
    {
     "data": {
      "text/html": [
       "<div>\n",
       "<style scoped>\n",
       "    .dataframe tbody tr th:only-of-type {\n",
       "        vertical-align: middle;\n",
       "    }\n",
       "\n",
       "    .dataframe tbody tr th {\n",
       "        vertical-align: top;\n",
       "    }\n",
       "\n",
       "    .dataframe thead th {\n",
       "        text-align: right;\n",
       "    }\n",
       "</style>\n",
       "<table border=\"1\" class=\"dataframe\">\n",
       "  <thead>\n",
       "    <tr style=\"text-align: right;\">\n",
       "      <th></th>\n",
       "      <th>st_id</th>\n",
       "      <th>pr_sku_id</th>\n",
       "      <th>date</th>\n",
       "      <th>pr_sales_type_id</th>\n",
       "      <th>pr_sales_in_units</th>\n",
       "      <th>pr_promo_sales_in_units</th>\n",
       "      <th>pr_sales_in_rub</th>\n",
       "      <th>pr_promo_sales_in_rub</th>\n",
       "      <th>day_of_week</th>\n",
       "      <th>day</th>\n",
       "      <th>...</th>\n",
       "      <th>pr_group_id</th>\n",
       "      <th>pr_cat_id</th>\n",
       "      <th>pr_subcat_id</th>\n",
       "      <th>pr_uom_id</th>\n",
       "      <th>st_city_id</th>\n",
       "      <th>st_division_code</th>\n",
       "      <th>st_type_format_id</th>\n",
       "      <th>st_type_loc_id</th>\n",
       "      <th>st_type_size_id</th>\n",
       "      <th>st_is_active</th>\n",
       "    </tr>\n",
       "  </thead>\n",
       "  <tbody>\n",
       "    <tr>\n",
       "      <th>0</th>\n",
       "      <td>c81e728d9d4c2f636f067f89cc14862c</td>\n",
       "      <td>c7b711619071c92bef604c7ad68380dd</td>\n",
       "      <td>2022-10-20</td>\n",
       "      <td>1</td>\n",
       "      <td>5.0</td>\n",
       "      <td>5.0</td>\n",
       "      <td>825.0</td>\n",
       "      <td>825.0</td>\n",
       "      <td>3</td>\n",
       "      <td>20</td>\n",
       "      <td>...</td>\n",
       "      <td>aab3238922bcc25a6f606eb525ffdc56</td>\n",
       "      <td>28fc2782ea7ef51c1104ccf7b9bea13d</td>\n",
       "      <td>d29b5ce9c2883f0b7e90f79071a2ca82</td>\n",
       "      <td>1</td>\n",
       "      <td>908c9a564a86426585b29f5335b619bc</td>\n",
       "      <td>429a86ff6336c144ddaf6144f52ab52c</td>\n",
       "      <td>1</td>\n",
       "      <td>1</td>\n",
       "      <td>8</td>\n",
       "      <td>1</td>\n",
       "    </tr>\n",
       "    <tr>\n",
       "      <th>1</th>\n",
       "      <td>42a0e188f5033bc65bf8d78622277c4e</td>\n",
       "      <td>68f441429e73dbd33b81f95da31576e9</td>\n",
       "      <td>2023-01-29</td>\n",
       "      <td>0</td>\n",
       "      <td>4.0</td>\n",
       "      <td>0.0</td>\n",
       "      <td>196.0</td>\n",
       "      <td>0.0</td>\n",
       "      <td>6</td>\n",
       "      <td>29</td>\n",
       "      <td>...</td>\n",
       "      <td>c74d97b01eae257e44aa9d5bade97baf</td>\n",
       "      <td>1bc0249a6412ef49b07fe6f62e6dc8de</td>\n",
       "      <td>68f204f3838bfee4ada868b66e6a0814</td>\n",
       "      <td>17</td>\n",
       "      <td>b8b4b727d6f5d1b61fff7be687f7970f</td>\n",
       "      <td>da742b3cfca5388aaf9af28a726a3c30</td>\n",
       "      <td>1</td>\n",
       "      <td>1</td>\n",
       "      <td>12</td>\n",
       "      <td>1</td>\n",
       "    </tr>\n",
       "    <tr>\n",
       "      <th>2</th>\n",
       "      <td>1ecfb463472ec9115b10c292ef8bc986</td>\n",
       "      <td>22988026fe85fde60d8bf777ab6bc3b4</td>\n",
       "      <td>2023-03-02</td>\n",
       "      <td>0</td>\n",
       "      <td>1.0</td>\n",
       "      <td>0.0</td>\n",
       "      <td>78.0</td>\n",
       "      <td>0.0</td>\n",
       "      <td>3</td>\n",
       "      <td>2</td>\n",
       "      <td>...</td>\n",
       "      <td>c74d97b01eae257e44aa9d5bade97baf</td>\n",
       "      <td>f3173935ed8ac4bf073c1bcd63171f8a</td>\n",
       "      <td>5fd72b9fc7118bd36a137d7cea8c588a</td>\n",
       "      <td>17</td>\n",
       "      <td>908c9a564a86426585b29f5335b619bc</td>\n",
       "      <td>429a86ff6336c144ddaf6144f52ab52c</td>\n",
       "      <td>2</td>\n",
       "      <td>1</td>\n",
       "      <td>28</td>\n",
       "      <td>1</td>\n",
       "    </tr>\n",
       "    <tr>\n",
       "      <th>3</th>\n",
       "      <td>42a0e188f5033bc65bf8d78622277c4e</td>\n",
       "      <td>8e887cf8e64ab8e7173701a979476567</td>\n",
       "      <td>2023-04-05</td>\n",
       "      <td>1</td>\n",
       "      <td>0.0</td>\n",
       "      <td>0.0</td>\n",
       "      <td>69.0</td>\n",
       "      <td>69.0</td>\n",
       "      <td>2</td>\n",
       "      <td>5</td>\n",
       "      <td>...</td>\n",
       "      <td>aab3238922bcc25a6f606eb525ffdc56</td>\n",
       "      <td>28fc2782ea7ef51c1104ccf7b9bea13d</td>\n",
       "      <td>a13b7a6b8e80d44d044c257a08ecccca</td>\n",
       "      <td>1</td>\n",
       "      <td>b8b4b727d6f5d1b61fff7be687f7970f</td>\n",
       "      <td>da742b3cfca5388aaf9af28a726a3c30</td>\n",
       "      <td>1</td>\n",
       "      <td>1</td>\n",
       "      <td>12</td>\n",
       "      <td>1</td>\n",
       "    </tr>\n",
       "    <tr>\n",
       "      <th>4</th>\n",
       "      <td>16a5cdae362b8d27a1d8f8c7b78b4330</td>\n",
       "      <td>e6fc24ca846339d204b0b50e9f772484</td>\n",
       "      <td>2023-02-17</td>\n",
       "      <td>0</td>\n",
       "      <td>1.0</td>\n",
       "      <td>0.0</td>\n",
       "      <td>161.0</td>\n",
       "      <td>0.0</td>\n",
       "      <td>4</td>\n",
       "      <td>17</td>\n",
       "      <td>...</td>\n",
       "      <td>c74d97b01eae257e44aa9d5bade97baf</td>\n",
       "      <td>a368b0de8b91cfb3f91892fbf1ebd4b2</td>\n",
       "      <td>0d51481bbf77027ddb2c990cf97cd9dd</td>\n",
       "      <td>1</td>\n",
       "      <td>c1f75cc0f7fe269dd0fd9bd5e24f9586</td>\n",
       "      <td>296bd0cc6e735f9d7488ebc8fbc19130</td>\n",
       "      <td>1</td>\n",
       "      <td>2</td>\n",
       "      <td>8</td>\n",
       "      <td>1</td>\n",
       "    </tr>\n",
       "  </tbody>\n",
       "</table>\n",
       "<p>5 rows × 22 columns</p>\n",
       "</div>"
      ],
      "text/plain": [
       "                              st_id                         pr_sku_id  \\\n",
       "0  c81e728d9d4c2f636f067f89cc14862c  c7b711619071c92bef604c7ad68380dd   \n",
       "1  42a0e188f5033bc65bf8d78622277c4e  68f441429e73dbd33b81f95da31576e9   \n",
       "2  1ecfb463472ec9115b10c292ef8bc986  22988026fe85fde60d8bf777ab6bc3b4   \n",
       "3  42a0e188f5033bc65bf8d78622277c4e  8e887cf8e64ab8e7173701a979476567   \n",
       "4  16a5cdae362b8d27a1d8f8c7b78b4330  e6fc24ca846339d204b0b50e9f772484   \n",
       "\n",
       "        date  pr_sales_type_id  pr_sales_in_units  pr_promo_sales_in_units  \\\n",
       "0 2022-10-20                 1                5.0                      5.0   \n",
       "1 2023-01-29                 0                4.0                      0.0   \n",
       "2 2023-03-02                 0                1.0                      0.0   \n",
       "3 2023-04-05                 1                0.0                      0.0   \n",
       "4 2023-02-17                 0                1.0                      0.0   \n",
       "\n",
       "   pr_sales_in_rub  pr_promo_sales_in_rub  day_of_week  day  ...  \\\n",
       "0            825.0                  825.0            3   20  ...   \n",
       "1            196.0                    0.0            6   29  ...   \n",
       "2             78.0                    0.0            3    2  ...   \n",
       "3             69.0                   69.0            2    5  ...   \n",
       "4            161.0                    0.0            4   17  ...   \n",
       "\n",
       "                        pr_group_id                         pr_cat_id  \\\n",
       "0  aab3238922bcc25a6f606eb525ffdc56  28fc2782ea7ef51c1104ccf7b9bea13d   \n",
       "1  c74d97b01eae257e44aa9d5bade97baf  1bc0249a6412ef49b07fe6f62e6dc8de   \n",
       "2  c74d97b01eae257e44aa9d5bade97baf  f3173935ed8ac4bf073c1bcd63171f8a   \n",
       "3  aab3238922bcc25a6f606eb525ffdc56  28fc2782ea7ef51c1104ccf7b9bea13d   \n",
       "4  c74d97b01eae257e44aa9d5bade97baf  a368b0de8b91cfb3f91892fbf1ebd4b2   \n",
       "\n",
       "                       pr_subcat_id pr_uom_id  \\\n",
       "0  d29b5ce9c2883f0b7e90f79071a2ca82         1   \n",
       "1  68f204f3838bfee4ada868b66e6a0814        17   \n",
       "2  5fd72b9fc7118bd36a137d7cea8c588a        17   \n",
       "3  a13b7a6b8e80d44d044c257a08ecccca         1   \n",
       "4  0d51481bbf77027ddb2c990cf97cd9dd         1   \n",
       "\n",
       "                         st_city_id                  st_division_code  \\\n",
       "0  908c9a564a86426585b29f5335b619bc  429a86ff6336c144ddaf6144f52ab52c   \n",
       "1  b8b4b727d6f5d1b61fff7be687f7970f  da742b3cfca5388aaf9af28a726a3c30   \n",
       "2  908c9a564a86426585b29f5335b619bc  429a86ff6336c144ddaf6144f52ab52c   \n",
       "3  b8b4b727d6f5d1b61fff7be687f7970f  da742b3cfca5388aaf9af28a726a3c30   \n",
       "4  c1f75cc0f7fe269dd0fd9bd5e24f9586  296bd0cc6e735f9d7488ebc8fbc19130   \n",
       "\n",
       "  st_type_format_id st_type_loc_id  st_type_size_id  st_is_active  \n",
       "0                 1              1                8             1  \n",
       "1                 1              1               12             1  \n",
       "2                 2              1               28             1  \n",
       "3                 1              1               12             1  \n",
       "4                 1              2                8             1  \n",
       "\n",
       "[5 rows x 22 columns]"
      ]
     },
     "execution_count": 19,
     "metadata": {},
     "output_type": "execute_result"
    }
   ],
   "source": [
    "df_clean.head()"
   ]
  },
  {
   "cell_type": "code",
   "execution_count": 20,
   "id": "471c90cb",
   "metadata": {},
   "outputs": [
    {
     "data": {
      "text/plain": [
       "['st_id',\n",
       " 'pr_sku_id',\n",
       " 'date',\n",
       " 'pr_sales_type_id',\n",
       " 'pr_sales_in_units',\n",
       " 'pr_promo_sales_in_units',\n",
       " 'pr_sales_in_rub',\n",
       " 'pr_promo_sales_in_rub',\n",
       " 'day_of_week',\n",
       " 'day',\n",
       " 'month',\n",
       " 'year',\n",
       " 'pr_group_id',\n",
       " 'pr_cat_id',\n",
       " 'pr_subcat_id',\n",
       " 'pr_uom_id',\n",
       " 'st_city_id',\n",
       " 'st_division_code',\n",
       " 'st_type_format_id',\n",
       " 'st_type_loc_id',\n",
       " 'st_type_size_id',\n",
       " 'st_is_active']"
      ]
     },
     "execution_count": 20,
     "metadata": {},
     "output_type": "execute_result"
    }
   ],
   "source": [
    "list(df_clean.columns.values)"
   ]
  },
  {
   "cell_type": "code",
   "execution_count": 21,
   "id": "e65f2d7e",
   "metadata": {},
   "outputs": [],
   "source": [
    "count_units = df_clean[['date','pr_sales_in_units']]"
   ]
  },
  {
   "cell_type": "code",
   "execution_count": 22,
   "id": "d45793d1",
   "metadata": {},
   "outputs": [],
   "source": [
    "count_rub =df_clean[['date','pr_sales_in_rub']]"
   ]
  },
  {
   "cell_type": "code",
   "execution_count": 23,
   "id": "56457250",
   "metadata": {},
   "outputs": [
    {
     "data": {
      "image/png": "[encoded data removed]",
      "text/plain": [
       "<Figure size 1080x432 with 1 Axes>"
      ]
     },
     "metadata": {
      "needs_background": "light"
     },
     "output_type": "display_data"
    }
   ],
   "source": [
    "time_series_units = count_units.groupby('date')['date'].count()\n",
    "plt.figure(figsize=(15, 6))\n",
    "time_series_units.plot(ax=plt.gca(), alpha=0.8)\n",
    "plt.show()"
   ]
  },
  {
   "cell_type": "code",
   "execution_count": 24,
   "id": "deff1a06",
   "metadata": {},
   "outputs": [
    {
     "data": {
      "image/png": "[encoded data removed]",
      "text/plain": [
       "<Figure size 1080x432 with 1 Axes>"
      ]
     },
     "metadata": {
      "needs_background": "light"
     },
     "output_type": "display_data"
    }
   ],
   "source": [
    "time_series_rub = count_rub.groupby('date')['date'].count()\n",
    "plt.figure(figsize=(15, 6))\n",
    "time_series_rub.plot(ax=plt.gca(), alpha=0.8)\n",
    "plt.show()"
   ]
  },
  {
   "cell_type": "code",
   "execution_count": 25,
   "id": "14486014",
   "metadata": {},
   "outputs": [
    {
     "data": {
      "image/png": "[encoded data removed]",
      "text/plain": [
       "<Figure size 1080x432 with 1 Axes>"
      ]
     },
     "metadata": {
      "needs_background": "light"
     },
     "output_type": "display_data"
    }
   ],
   "source": [
    "plt.figure(figsize=(15, 6))\n",
    "df_clean.groupby('day')['pr_sales_in_units'].count().plot.bar()\n",
    "plt.show()"
   ]
  },
  {
   "cell_type": "code",
   "execution_count": 26,
   "id": "572f248f",
   "metadata": {},
   "outputs": [
    {
     "data": {
      "image/png": "[encoded data removed]",
      "text/plain": [
       "<Figure size 1080x432 with 1 Axes>"
      ]
     },
     "metadata": {
      "needs_background": "light"
     },
     "output_type": "display_data"
    }
   ],
   "source": [
    "plt.figure(figsize=(15, 6))\n",
    "df_clean.groupby('day_of_week')['pr_sales_in_units'].count().plot.bar()\n",
    "plt.show()"
   ]
  },
  {
   "cell_type": "code",
   "execution_count": 27,
   "id": "e762d822",
   "metadata": {},
   "outputs": [
    {
     "data": {
      "image/png": "[encoded data removed]",
      "text/plain": [
       "<Figure size 1080x432 with 1 Axes>"
      ]
     },
     "metadata": {
      "needs_background": "light"
     },
     "output_type": "display_data"
    }
   ],
   "source": [
    "plt.figure(figsize=(15, 6))\n",
    "df_clean.groupby('month')['pr_sales_in_units'].count().plot.bar()\n",
    "plt.show()"
   ]
  },
  {
   "cell_type": "code",
   "execution_count": 28,
   "id": "79aff96f",
   "metadata": {},
   "outputs": [
    {
     "data": {
      "image/png": "[encoded data removed]",
      "text/plain": [
       "<Figure size 1080x432 with 1 Axes>"
      ]
     },
     "metadata": {
      "needs_background": "light"
     },
     "output_type": "display_data"
    }
   ],
   "source": [
    "plt.figure(figsize=(15, 6))\n",
    "df_clean.groupby('day')['pr_sales_in_units'].mean().plot.bar()\n",
    "plt.show()"
   ]
  },
  {
   "cell_type": "code",
   "execution_count": 29,
   "id": "60d19a79",
   "metadata": {},
   "outputs": [
    {
     "data": {
      "image/png": "[encoded data removed]",
      "text/plain": [
       "<Figure size 1080x432 with 1 Axes>"
      ]
     },
     "metadata": {
      "needs_background": "light"
     },
     "output_type": "display_data"
    }
   ],
   "source": [
    "plt.figure(figsize=(15, 6))\n",
    "df_clean.groupby('day_of_week')['pr_sales_in_units'].mean().plot.bar()\n",
    "plt.show()"
   ]
  },
  {
   "cell_type": "code",
   "execution_count": 30,
   "id": "4ade9ff4",
   "metadata": {},
   "outputs": [
    {
     "data": {
      "image/png": "[encoded data removed]",
      "text/plain": [
       "<Figure size 1080x432 with 1 Axes>"
      ]
     },
     "metadata": {
      "needs_background": "light"
     },
     "output_type": "display_data"
    }
   ],
   "source": [
    "plt.figure(figsize=(15, 6))\n",
    "df_clean.groupby('month')['pr_sales_in_units'].mean().plot.bar()\n",
    "plt.show()"
   ]
  },
  {
   "cell_type": "code",
   "execution_count": null,
   "id": "d9d47c8d",
   "metadata": {},
   "outputs": [],
   "source": []
  },
  {
   "cell_type": "code",
   "execution_count": 31,
   "id": "e0781357",
   "metadata": {},
   "outputs": [],
   "source": [
    "train, test = train_test_split(df_clean, shuffle=False, test_size=0.1)"
   ]
  },
  {
   "cell_type": "code",
   "execution_count": 32,
   "id": "f697d4d9",
   "metadata": {},
   "outputs": [
    {
     "data": {
      "text/plain": [
       "['st_id',\n",
       " 'pr_sku_id',\n",
       " 'date',\n",
       " 'pr_sales_type_id',\n",
       " 'pr_sales_in_units',\n",
       " 'pr_promo_sales_in_units',\n",
       " 'pr_sales_in_rub',\n",
       " 'pr_promo_sales_in_rub',\n",
       " 'day_of_week',\n",
       " 'day',\n",
       " 'month',\n",
       " 'year',\n",
       " 'pr_group_id',\n",
       " 'pr_cat_id',\n",
       " 'pr_subcat_id',\n",
       " 'pr_uom_id',\n",
       " 'st_city_id',\n",
       " 'st_division_code',\n",
       " 'st_type_format_id',\n",
       " 'st_type_loc_id',\n",
       " 'st_type_size_id',\n",
       " 'st_is_active']"
      ]
     },
     "execution_count": 32,
     "metadata": {},
     "output_type": "execute_result"
    }
   ],
   "source": [
    "list(train.columns.values)"
   ]
  },
  {
   "cell_type": "code",
   "execution_count": 33,
   "id": "51d11dba",
   "metadata": {},
   "outputs": [],
   "source": [
    "f_train = train.drop(['pr_sales_in_units', 'pr_promo_sales_in_units','pr_sales_in_rub','pr_promo_sales_in_rub'], axis= 1)\n",
    "t_train = train['pr_sales_in_units']"
   ]
  },
  {
   "cell_type": "code",
   "execution_count": 34,
   "id": "70f0ebbc",
   "metadata": {},
   "outputs": [
    {
     "name": "stderr",
     "output_type": "stream",
     "text": [
      "C:\\Users\\Star\\anaconda3\\lib\\site-packages\\sklearn\\model_selection\\_validation.py:372: FitFailedWarning: \n",
      "60 fits failed out of a total of 60.\n",
      "The score on these train-test partitions for these parameters will be set to nan.\n",
      "If these failures are not expected, you can try to debug them by setting error_score='raise'.\n",
      "\n",
      "Below are more details about the failures:\n",
      "--------------------------------------------------------------------------------\n",
      "60 fits failed with the following error:\n",
      "Traceback (most recent call last):\n",
      "  File \"C:\\Users\\Star\\anaconda3\\lib\\site-packages\\sklearn\\model_selection\\_validation.py\", line 680, in _fit_and_score\n",
      "    estimator.fit(X_train, y_train, **fit_params)\n",
      "  File \"C:\\Users\\Star\\anaconda3\\lib\\site-packages\\lightgbm\\sklearn.py\", line 895, in fit\n",
      "    super().fit(X, y, sample_weight=sample_weight, init_score=init_score,\n",
      "  File \"C:\\Users\\Star\\anaconda3\\lib\\site-packages\\lightgbm\\sklearn.py\", line 748, in fit\n",
      "    self._Booster = train(\n",
      "  File \"C:\\Users\\Star\\anaconda3\\lib\\site-packages\\lightgbm\\engine.py\", line 271, in train\n",
      "    booster = Booster(params=params, train_set=train_set)\n",
      "  File \"C:\\Users\\Star\\anaconda3\\lib\\site-packages\\lightgbm\\basic.py\", line 2605, in __init__\n",
      "    train_set.construct()\n",
      "  File \"C:\\Users\\Star\\anaconda3\\lib\\site-packages\\lightgbm\\basic.py\", line 1815, in construct\n",
      "    self._lazy_init(self.data, label=self.label,\n",
      "  File \"C:\\Users\\Star\\anaconda3\\lib\\site-packages\\lightgbm\\basic.py\", line 1474, in _lazy_init\n",
      "    data, feature_name, categorical_feature, self.pandas_categorical = _data_from_pandas(data,\n",
      "  File \"C:\\Users\\Star\\anaconda3\\lib\\site-packages\\lightgbm\\basic.py\", line 594, in _data_from_pandas\n",
      "    raise ValueError(\"DataFrame.dtypes for data must be int, float or bool.\\n\"\n",
      "ValueError: DataFrame.dtypes for data must be int, float or bool.\n",
      "Did not expect the data types in the following fields: st_id, pr_sku_id, date, pr_group_id, pr_cat_id, pr_subcat_id, st_city_id, st_division_code\n",
      "\n",
      "  warnings.warn(some_fits_failed_message, FitFailedWarning)\n",
      "C:\\Users\\Star\\anaconda3\\lib\\site-packages\\sklearn\\model_selection\\_search.py:969: UserWarning: One or more of the test scores are non-finite: [nan nan nan nan nan nan nan nan nan nan]\n",
      "  warnings.warn(\n"
     ]
    },
    {
     "ename": "ValueError",
     "evalue": "DataFrame.dtypes for data must be int, float or bool.\nDid not expect the data types in the following fields: st_id, pr_sku_id, date, pr_group_id, pr_cat_id, pr_subcat_id, st_city_id, st_division_code",
     "output_type": "error",
     "traceback": [
      "\u001b[1;31m---------------------------------------------------------------------------\u001b[0m",
      "\u001b[1;31mValueError\u001b[0m                                Traceback (most recent call last)",
      "Input \u001b[1;32mIn [34]\u001b[0m, in \u001b[0;36m<cell line: 10>\u001b[1;34m()\u001b[0m\n\u001b[0;32m      6\u001b[0m my_cv \u001b[38;5;241m=\u001b[39m TimeSeriesSplit(n_splits\u001b[38;5;241m=\u001b[39m\u001b[38;5;241m6\u001b[39m)\u001b[38;5;241m.\u001b[39msplit(f_train)\n\u001b[0;32m      8\u001b[0m gsearch \u001b[38;5;241m=\u001b[39m RandomizedSearchCV(estimator\u001b[38;5;241m=\u001b[39mmodel, cv\u001b[38;5;241m=\u001b[39mmy_cv,\n\u001b[0;32m      9\u001b[0m                         param_distributions\u001b[38;5;241m=\u001b[39mparam_search)\n\u001b[1;32m---> 10\u001b[0m \u001b[43mgsearch\u001b[49m\u001b[38;5;241;43m.\u001b[39;49m\u001b[43mfit\u001b[49m\u001b[43m(\u001b[49m\u001b[43mf_train\u001b[49m\u001b[43m,\u001b[49m\u001b[43m \u001b[49m\u001b[43mt_train\u001b[49m\u001b[43m)\u001b[49m\n",
      "File \u001b[1;32m~\\anaconda3\\lib\\site-packages\\sklearn\\model_selection\\_search.py:926\u001b[0m, in \u001b[0;36mBaseSearchCV.fit\u001b[1;34m(self, X, y, groups, **fit_params)\u001b[0m\n\u001b[0;32m    924\u001b[0m refit_start_time \u001b[38;5;241m=\u001b[39m time\u001b[38;5;241m.\u001b[39mtime()\n\u001b[0;32m    925\u001b[0m \u001b[38;5;28;01mif\u001b[39;00m y \u001b[38;5;129;01mis\u001b[39;00m \u001b[38;5;129;01mnot\u001b[39;00m \u001b[38;5;28;01mNone\u001b[39;00m:\n\u001b[1;32m--> 926\u001b[0m     \u001b[38;5;28mself\u001b[39m\u001b[38;5;241m.\u001b[39mbest_estimator_\u001b[38;5;241m.\u001b[39mfit(X, y, \u001b[38;5;241m*\u001b[39m\u001b[38;5;241m*\u001b[39mfit_params)\n\u001b[0;32m    927\u001b[0m \u001b[38;5;28;01melse\u001b[39;00m:\n\u001b[0;32m    928\u001b[0m     \u001b[38;5;28mself\u001b[39m\u001b[38;5;241m.\u001b[39mbest_estimator_\u001b[38;5;241m.\u001b[39mfit(X, \u001b[38;5;241m*\u001b[39m\u001b[38;5;241m*\u001b[39mfit_params)\n",
      "File \u001b[1;32m~\\anaconda3\\lib\\site-packages\\lightgbm\\sklearn.py:895\u001b[0m, in \u001b[0;36mLGBMRegressor.fit\u001b[1;34m(self, X, y, sample_weight, init_score, eval_set, eval_names, eval_sample_weight, eval_init_score, eval_metric, early_stopping_rounds, verbose, feature_name, categorical_feature, callbacks, init_model)\u001b[0m\n\u001b[0;32m    888\u001b[0m \u001b[38;5;28;01mdef\u001b[39;00m \u001b[38;5;21mfit\u001b[39m(\u001b[38;5;28mself\u001b[39m, X, y,\n\u001b[0;32m    889\u001b[0m         sample_weight\u001b[38;5;241m=\u001b[39m\u001b[38;5;28;01mNone\u001b[39;00m, init_score\u001b[38;5;241m=\u001b[39m\u001b[38;5;28;01mNone\u001b[39;00m,\n\u001b[0;32m    890\u001b[0m         eval_set\u001b[38;5;241m=\u001b[39m\u001b[38;5;28;01mNone\u001b[39;00m, eval_names\u001b[38;5;241m=\u001b[39m\u001b[38;5;28;01mNone\u001b[39;00m, eval_sample_weight\u001b[38;5;241m=\u001b[39m\u001b[38;5;28;01mNone\u001b[39;00m,\n\u001b[0;32m    891\u001b[0m         eval_init_score\u001b[38;5;241m=\u001b[39m\u001b[38;5;28;01mNone\u001b[39;00m, eval_metric\u001b[38;5;241m=\u001b[39m\u001b[38;5;28;01mNone\u001b[39;00m, early_stopping_rounds\u001b[38;5;241m=\u001b[39m\u001b[38;5;28;01mNone\u001b[39;00m,\n\u001b[0;32m    892\u001b[0m         verbose\u001b[38;5;241m=\u001b[39m\u001b[38;5;124m'\u001b[39m\u001b[38;5;124mwarn\u001b[39m\u001b[38;5;124m'\u001b[39m, feature_name\u001b[38;5;241m=\u001b[39m\u001b[38;5;124m'\u001b[39m\u001b[38;5;124mauto\u001b[39m\u001b[38;5;124m'\u001b[39m, categorical_feature\u001b[38;5;241m=\u001b[39m\u001b[38;5;124m'\u001b[39m\u001b[38;5;124mauto\u001b[39m\u001b[38;5;124m'\u001b[39m,\n\u001b[0;32m    893\u001b[0m         callbacks\u001b[38;5;241m=\u001b[39m\u001b[38;5;28;01mNone\u001b[39;00m, init_model\u001b[38;5;241m=\u001b[39m\u001b[38;5;28;01mNone\u001b[39;00m):\n\u001b[0;32m    894\u001b[0m     \u001b[38;5;124;03m\"\"\"Docstring is inherited from the LGBMModel.\"\"\"\u001b[39;00m\n\u001b[1;32m--> 895\u001b[0m     \u001b[38;5;28;43msuper\u001b[39;49m\u001b[43m(\u001b[49m\u001b[43m)\u001b[49m\u001b[38;5;241;43m.\u001b[39;49m\u001b[43mfit\u001b[49m\u001b[43m(\u001b[49m\u001b[43mX\u001b[49m\u001b[43m,\u001b[49m\u001b[43m \u001b[49m\u001b[43my\u001b[49m\u001b[43m,\u001b[49m\u001b[43m \u001b[49m\u001b[43msample_weight\u001b[49m\u001b[38;5;241;43m=\u001b[39;49m\u001b[43msample_weight\u001b[49m\u001b[43m,\u001b[49m\u001b[43m \u001b[49m\u001b[43minit_score\u001b[49m\u001b[38;5;241;43m=\u001b[39;49m\u001b[43minit_score\u001b[49m\u001b[43m,\u001b[49m\n\u001b[0;32m    896\u001b[0m \u001b[43m                \u001b[49m\u001b[43meval_set\u001b[49m\u001b[38;5;241;43m=\u001b[39;49m\u001b[43meval_set\u001b[49m\u001b[43m,\u001b[49m\u001b[43m \u001b[49m\u001b[43meval_names\u001b[49m\u001b[38;5;241;43m=\u001b[39;49m\u001b[43meval_names\u001b[49m\u001b[43m,\u001b[49m\u001b[43m \u001b[49m\u001b[43meval_sample_weight\u001b[49m\u001b[38;5;241;43m=\u001b[39;49m\u001b[43meval_sample_weight\u001b[49m\u001b[43m,\u001b[49m\n\u001b[0;32m    897\u001b[0m \u001b[43m                \u001b[49m\u001b[43meval_init_score\u001b[49m\u001b[38;5;241;43m=\u001b[39;49m\u001b[43meval_init_score\u001b[49m\u001b[43m,\u001b[49m\u001b[43m \u001b[49m\u001b[43meval_metric\u001b[49m\u001b[38;5;241;43m=\u001b[39;49m\u001b[43meval_metric\u001b[49m\u001b[43m,\u001b[49m\n\u001b[0;32m    898\u001b[0m \u001b[43m                \u001b[49m\u001b[43mearly_stopping_rounds\u001b[49m\u001b[38;5;241;43m=\u001b[39;49m\u001b[43mearly_stopping_rounds\u001b[49m\u001b[43m,\u001b[49m\u001b[43m \u001b[49m\u001b[43mverbose\u001b[49m\u001b[38;5;241;43m=\u001b[39;49m\u001b[43mverbose\u001b[49m\u001b[43m,\u001b[49m\u001b[43m \u001b[49m\u001b[43mfeature_name\u001b[49m\u001b[38;5;241;43m=\u001b[39;49m\u001b[43mfeature_name\u001b[49m\u001b[43m,\u001b[49m\n\u001b[0;32m    899\u001b[0m \u001b[43m                \u001b[49m\u001b[43mcategorical_feature\u001b[49m\u001b[38;5;241;43m=\u001b[39;49m\u001b[43mcategorical_feature\u001b[49m\u001b[43m,\u001b[49m\u001b[43m \u001b[49m\u001b[43mcallbacks\u001b[49m\u001b[38;5;241;43m=\u001b[39;49m\u001b[43mcallbacks\u001b[49m\u001b[43m,\u001b[49m\u001b[43m \u001b[49m\u001b[43minit_model\u001b[49m\u001b[38;5;241;43m=\u001b[39;49m\u001b[43minit_model\u001b[49m\u001b[43m)\u001b[49m\n\u001b[0;32m    900\u001b[0m     \u001b[38;5;28;01mreturn\u001b[39;00m \u001b[38;5;28mself\u001b[39m\n",
      "File \u001b[1;32m~\\anaconda3\\lib\\site-packages\\lightgbm\\sklearn.py:748\u001b[0m, in \u001b[0;36mLGBMModel.fit\u001b[1;34m(self, X, y, sample_weight, init_score, group, eval_set, eval_names, eval_sample_weight, eval_class_weight, eval_init_score, eval_group, eval_metric, early_stopping_rounds, verbose, feature_name, categorical_feature, callbacks, init_model)\u001b[0m\n\u001b[0;32m    745\u001b[0m evals_result \u001b[38;5;241m=\u001b[39m {}\n\u001b[0;32m    746\u001b[0m callbacks\u001b[38;5;241m.\u001b[39mappend(record_evaluation(evals_result))\n\u001b[1;32m--> 748\u001b[0m \u001b[38;5;28mself\u001b[39m\u001b[38;5;241m.\u001b[39m_Booster \u001b[38;5;241m=\u001b[39m \u001b[43mtrain\u001b[49m\u001b[43m(\u001b[49m\n\u001b[0;32m    749\u001b[0m \u001b[43m    \u001b[49m\u001b[43mparams\u001b[49m\u001b[38;5;241;43m=\u001b[39;49m\u001b[43mparams\u001b[49m\u001b[43m,\u001b[49m\n\u001b[0;32m    750\u001b[0m \u001b[43m    \u001b[49m\u001b[43mtrain_set\u001b[49m\u001b[38;5;241;43m=\u001b[39;49m\u001b[43mtrain_set\u001b[49m\u001b[43m,\u001b[49m\n\u001b[0;32m    751\u001b[0m \u001b[43m    \u001b[49m\u001b[43mnum_boost_round\u001b[49m\u001b[38;5;241;43m=\u001b[39;49m\u001b[38;5;28;43mself\u001b[39;49m\u001b[38;5;241;43m.\u001b[39;49m\u001b[43mn_estimators\u001b[49m\u001b[43m,\u001b[49m\n\u001b[0;32m    752\u001b[0m \u001b[43m    \u001b[49m\u001b[43mvalid_sets\u001b[49m\u001b[38;5;241;43m=\u001b[39;49m\u001b[43mvalid_sets\u001b[49m\u001b[43m,\u001b[49m\n\u001b[0;32m    753\u001b[0m \u001b[43m    \u001b[49m\u001b[43mvalid_names\u001b[49m\u001b[38;5;241;43m=\u001b[39;49m\u001b[43meval_names\u001b[49m\u001b[43m,\u001b[49m\n\u001b[0;32m    754\u001b[0m \u001b[43m    \u001b[49m\u001b[43mfobj\u001b[49m\u001b[38;5;241;43m=\u001b[39;49m\u001b[38;5;28;43mself\u001b[39;49m\u001b[38;5;241;43m.\u001b[39;49m\u001b[43m_fobj\u001b[49m\u001b[43m,\u001b[49m\n\u001b[0;32m    755\u001b[0m \u001b[43m    \u001b[49m\u001b[43mfeval\u001b[49m\u001b[38;5;241;43m=\u001b[39;49m\u001b[43meval_metrics_callable\u001b[49m\u001b[43m,\u001b[49m\n\u001b[0;32m    756\u001b[0m \u001b[43m    \u001b[49m\u001b[43minit_model\u001b[49m\u001b[38;5;241;43m=\u001b[39;49m\u001b[43minit_model\u001b[49m\u001b[43m,\u001b[49m\n\u001b[0;32m    757\u001b[0m \u001b[43m    \u001b[49m\u001b[43mfeature_name\u001b[49m\u001b[38;5;241;43m=\u001b[39;49m\u001b[43mfeature_name\u001b[49m\u001b[43m,\u001b[49m\n\u001b[0;32m    758\u001b[0m \u001b[43m    \u001b[49m\u001b[43mcallbacks\u001b[49m\u001b[38;5;241;43m=\u001b[39;49m\u001b[43mcallbacks\u001b[49m\n\u001b[0;32m    759\u001b[0m \u001b[43m\u001b[49m\u001b[43m)\u001b[49m\n\u001b[0;32m    761\u001b[0m \u001b[38;5;28;01mif\u001b[39;00m evals_result:\n\u001b[0;32m    762\u001b[0m     \u001b[38;5;28mself\u001b[39m\u001b[38;5;241m.\u001b[39m_evals_result \u001b[38;5;241m=\u001b[39m evals_result\n",
      "File \u001b[1;32m~\\anaconda3\\lib\\site-packages\\lightgbm\\engine.py:271\u001b[0m, in \u001b[0;36mtrain\u001b[1;34m(params, train_set, num_boost_round, valid_sets, valid_names, fobj, feval, init_model, feature_name, categorical_feature, early_stopping_rounds, evals_result, verbose_eval, learning_rates, keep_training_booster, callbacks)\u001b[0m\n\u001b[0;32m    269\u001b[0m \u001b[38;5;66;03m# construct booster\u001b[39;00m\n\u001b[0;32m    270\u001b[0m \u001b[38;5;28;01mtry\u001b[39;00m:\n\u001b[1;32m--> 271\u001b[0m     booster \u001b[38;5;241m=\u001b[39m \u001b[43mBooster\u001b[49m\u001b[43m(\u001b[49m\u001b[43mparams\u001b[49m\u001b[38;5;241;43m=\u001b[39;49m\u001b[43mparams\u001b[49m\u001b[43m,\u001b[49m\u001b[43m \u001b[49m\u001b[43mtrain_set\u001b[49m\u001b[38;5;241;43m=\u001b[39;49m\u001b[43mtrain_set\u001b[49m\u001b[43m)\u001b[49m\n\u001b[0;32m    272\u001b[0m     \u001b[38;5;28;01mif\u001b[39;00m is_valid_contain_train:\n\u001b[0;32m    273\u001b[0m         booster\u001b[38;5;241m.\u001b[39mset_train_data_name(train_data_name)\n",
      "File \u001b[1;32m~\\anaconda3\\lib\\site-packages\\lightgbm\\basic.py:2605\u001b[0m, in \u001b[0;36mBooster.__init__\u001b[1;34m(self, params, train_set, model_file, model_str, silent)\u001b[0m\n\u001b[0;32m   2598\u001b[0m     \u001b[38;5;28mself\u001b[39m\u001b[38;5;241m.\u001b[39mset_network(\n\u001b[0;32m   2599\u001b[0m         machines\u001b[38;5;241m=\u001b[39mmachines,\n\u001b[0;32m   2600\u001b[0m         local_listen_port\u001b[38;5;241m=\u001b[39mparams[\u001b[38;5;124m\"\u001b[39m\u001b[38;5;124mlocal_listen_port\u001b[39m\u001b[38;5;124m\"\u001b[39m],\n\u001b[0;32m   2601\u001b[0m         listen_time_out\u001b[38;5;241m=\u001b[39mparams\u001b[38;5;241m.\u001b[39mget(\u001b[38;5;124m\"\u001b[39m\u001b[38;5;124mtime_out\u001b[39m\u001b[38;5;124m\"\u001b[39m, \u001b[38;5;241m120\u001b[39m),\n\u001b[0;32m   2602\u001b[0m         num_machines\u001b[38;5;241m=\u001b[39mparams[\u001b[38;5;124m\"\u001b[39m\u001b[38;5;124mnum_machines\u001b[39m\u001b[38;5;124m\"\u001b[39m]\n\u001b[0;32m   2603\u001b[0m     )\n\u001b[0;32m   2604\u001b[0m \u001b[38;5;66;03m# construct booster object\u001b[39;00m\n\u001b[1;32m-> 2605\u001b[0m \u001b[43mtrain_set\u001b[49m\u001b[38;5;241;43m.\u001b[39;49m\u001b[43mconstruct\u001b[49m\u001b[43m(\u001b[49m\u001b[43m)\u001b[49m\n\u001b[0;32m   2606\u001b[0m \u001b[38;5;66;03m# copy the parameters from train_set\u001b[39;00m\n\u001b[0;32m   2607\u001b[0m params\u001b[38;5;241m.\u001b[39mupdate(train_set\u001b[38;5;241m.\u001b[39mget_params())\n",
      "File \u001b[1;32m~\\anaconda3\\lib\\site-packages\\lightgbm\\basic.py:1815\u001b[0m, in \u001b[0;36mDataset.construct\u001b[1;34m(self)\u001b[0m\n\u001b[0;32m   1812\u001b[0m             \u001b[38;5;28mself\u001b[39m\u001b[38;5;241m.\u001b[39m_set_init_score_by_predictor(\u001b[38;5;28mself\u001b[39m\u001b[38;5;241m.\u001b[39m_predictor, \u001b[38;5;28mself\u001b[39m\u001b[38;5;241m.\u001b[39mdata, used_indices)\n\u001b[0;32m   1813\u001b[0m \u001b[38;5;28;01melse\u001b[39;00m:\n\u001b[0;32m   1814\u001b[0m     \u001b[38;5;66;03m# create train\u001b[39;00m\n\u001b[1;32m-> 1815\u001b[0m     \u001b[38;5;28;43mself\u001b[39;49m\u001b[38;5;241;43m.\u001b[39;49m\u001b[43m_lazy_init\u001b[49m\u001b[43m(\u001b[49m\u001b[38;5;28;43mself\u001b[39;49m\u001b[38;5;241;43m.\u001b[39;49m\u001b[43mdata\u001b[49m\u001b[43m,\u001b[49m\u001b[43m \u001b[49m\u001b[43mlabel\u001b[49m\u001b[38;5;241;43m=\u001b[39;49m\u001b[38;5;28;43mself\u001b[39;49m\u001b[38;5;241;43m.\u001b[39;49m\u001b[43mlabel\u001b[49m\u001b[43m,\u001b[49m\n\u001b[0;32m   1816\u001b[0m \u001b[43m                    \u001b[49m\u001b[43mweight\u001b[49m\u001b[38;5;241;43m=\u001b[39;49m\u001b[38;5;28;43mself\u001b[39;49m\u001b[38;5;241;43m.\u001b[39;49m\u001b[43mweight\u001b[49m\u001b[43m,\u001b[49m\u001b[43m \u001b[49m\u001b[43mgroup\u001b[49m\u001b[38;5;241;43m=\u001b[39;49m\u001b[38;5;28;43mself\u001b[39;49m\u001b[38;5;241;43m.\u001b[39;49m\u001b[43mgroup\u001b[49m\u001b[43m,\u001b[49m\n\u001b[0;32m   1817\u001b[0m \u001b[43m                    \u001b[49m\u001b[43minit_score\u001b[49m\u001b[38;5;241;43m=\u001b[39;49m\u001b[38;5;28;43mself\u001b[39;49m\u001b[38;5;241;43m.\u001b[39;49m\u001b[43minit_score\u001b[49m\u001b[43m,\u001b[49m\u001b[43m \u001b[49m\u001b[43mpredictor\u001b[49m\u001b[38;5;241;43m=\u001b[39;49m\u001b[38;5;28;43mself\u001b[39;49m\u001b[38;5;241;43m.\u001b[39;49m\u001b[43m_predictor\u001b[49m\u001b[43m,\u001b[49m\n\u001b[0;32m   1818\u001b[0m \u001b[43m                    \u001b[49m\u001b[43msilent\u001b[49m\u001b[38;5;241;43m=\u001b[39;49m\u001b[38;5;28;43mself\u001b[39;49m\u001b[38;5;241;43m.\u001b[39;49m\u001b[43msilent\u001b[49m\u001b[43m,\u001b[49m\u001b[43m \u001b[49m\u001b[43mfeature_name\u001b[49m\u001b[38;5;241;43m=\u001b[39;49m\u001b[38;5;28;43mself\u001b[39;49m\u001b[38;5;241;43m.\u001b[39;49m\u001b[43mfeature_name\u001b[49m\u001b[43m,\u001b[49m\n\u001b[0;32m   1819\u001b[0m \u001b[43m                    \u001b[49m\u001b[43mcategorical_feature\u001b[49m\u001b[38;5;241;43m=\u001b[39;49m\u001b[38;5;28;43mself\u001b[39;49m\u001b[38;5;241;43m.\u001b[39;49m\u001b[43mcategorical_feature\u001b[49m\u001b[43m,\u001b[49m\u001b[43m \u001b[49m\u001b[43mparams\u001b[49m\u001b[38;5;241;43m=\u001b[39;49m\u001b[38;5;28;43mself\u001b[39;49m\u001b[38;5;241;43m.\u001b[39;49m\u001b[43mparams\u001b[49m\u001b[43m)\u001b[49m\n\u001b[0;32m   1820\u001b[0m \u001b[38;5;28;01mif\u001b[39;00m \u001b[38;5;28mself\u001b[39m\u001b[38;5;241m.\u001b[39mfree_raw_data:\n\u001b[0;32m   1821\u001b[0m     \u001b[38;5;28mself\u001b[39m\u001b[38;5;241m.\u001b[39mdata \u001b[38;5;241m=\u001b[39m \u001b[38;5;28;01mNone\u001b[39;00m\n",
      "File \u001b[1;32m~\\anaconda3\\lib\\site-packages\\lightgbm\\basic.py:1474\u001b[0m, in \u001b[0;36mDataset._lazy_init\u001b[1;34m(self, data, label, reference, weight, group, init_score, predictor, silent, feature_name, categorical_feature, params)\u001b[0m\n\u001b[0;32m   1472\u001b[0m     \u001b[38;5;28mself\u001b[39m\u001b[38;5;241m.\u001b[39mpandas_categorical \u001b[38;5;241m=\u001b[39m reference\u001b[38;5;241m.\u001b[39mpandas_categorical\n\u001b[0;32m   1473\u001b[0m     categorical_feature \u001b[38;5;241m=\u001b[39m reference\u001b[38;5;241m.\u001b[39mcategorical_feature\n\u001b[1;32m-> 1474\u001b[0m data, feature_name, categorical_feature, \u001b[38;5;28mself\u001b[39m\u001b[38;5;241m.\u001b[39mpandas_categorical \u001b[38;5;241m=\u001b[39m \u001b[43m_data_from_pandas\u001b[49m\u001b[43m(\u001b[49m\u001b[43mdata\u001b[49m\u001b[43m,\u001b[49m\n\u001b[0;32m   1475\u001b[0m \u001b[43m                                                                                     \u001b[49m\u001b[43mfeature_name\u001b[49m\u001b[43m,\u001b[49m\n\u001b[0;32m   1476\u001b[0m \u001b[43m                                                                                     \u001b[49m\u001b[43mcategorical_feature\u001b[49m\u001b[43m,\u001b[49m\n\u001b[0;32m   1477\u001b[0m \u001b[43m                                                                                     \u001b[49m\u001b[38;5;28;43mself\u001b[39;49m\u001b[38;5;241;43m.\u001b[39;49m\u001b[43mpandas_categorical\u001b[49m\u001b[43m)\u001b[49m\n\u001b[0;32m   1478\u001b[0m label \u001b[38;5;241m=\u001b[39m _label_from_pandas(label)\n\u001b[0;32m   1480\u001b[0m \u001b[38;5;66;03m# process for args\u001b[39;00m\n",
      "File \u001b[1;32m~\\anaconda3\\lib\\site-packages\\lightgbm\\basic.py:594\u001b[0m, in \u001b[0;36m_data_from_pandas\u001b[1;34m(data, feature_name, categorical_feature, pandas_categorical)\u001b[0m\n\u001b[0;32m    592\u001b[0m \u001b[38;5;28;01mif\u001b[39;00m bad_indices:\n\u001b[0;32m    593\u001b[0m     bad_index_cols_str \u001b[38;5;241m=\u001b[39m \u001b[38;5;124m'\u001b[39m\u001b[38;5;124m, \u001b[39m\u001b[38;5;124m'\u001b[39m\u001b[38;5;241m.\u001b[39mjoin(data\u001b[38;5;241m.\u001b[39mcolumns[bad_indices])\n\u001b[1;32m--> 594\u001b[0m     \u001b[38;5;28;01mraise\u001b[39;00m \u001b[38;5;167;01mValueError\u001b[39;00m(\u001b[38;5;124m\"\u001b[39m\u001b[38;5;124mDataFrame.dtypes for data must be int, float or bool.\u001b[39m\u001b[38;5;130;01m\\n\u001b[39;00m\u001b[38;5;124m\"\u001b[39m\n\u001b[0;32m    595\u001b[0m                      \u001b[38;5;124m\"\u001b[39m\u001b[38;5;124mDid not expect the data types in the following fields: \u001b[39m\u001b[38;5;124m\"\u001b[39m\n\u001b[0;32m    596\u001b[0m                      \u001b[38;5;124mf\u001b[39m\u001b[38;5;124m\"\u001b[39m\u001b[38;5;132;01m{\u001b[39;00mbad_index_cols_str\u001b[38;5;132;01m}\u001b[39;00m\u001b[38;5;124m\"\u001b[39m)\n\u001b[0;32m    597\u001b[0m data \u001b[38;5;241m=\u001b[39m data\u001b[38;5;241m.\u001b[39mvalues\n\u001b[0;32m    598\u001b[0m \u001b[38;5;28;01mif\u001b[39;00m data\u001b[38;5;241m.\u001b[39mdtype \u001b[38;5;241m!=\u001b[39m np\u001b[38;5;241m.\u001b[39mfloat32 \u001b[38;5;129;01mand\u001b[39;00m data\u001b[38;5;241m.\u001b[39mdtype \u001b[38;5;241m!=\u001b[39m np\u001b[38;5;241m.\u001b[39mfloat64:\n",
      "\u001b[1;31mValueError\u001b[0m: DataFrame.dtypes for data must be int, float or bool.\nDid not expect the data types in the following fields: st_id, pr_sku_id, date, pr_group_id, pr_cat_id, pr_subcat_id, st_city_id, st_division_code"
     ]
    }
   ],
   "source": [
    "model = lgb.LGBMRegressor(boosting_type= 'gbdt', random_state=12345\n",
    "                         )\n",
    "param_search = {'max_depth' : [20, 50], \"n_estimators\": [50, 100, 200],\n",
    "               'learning_rate': [0.1, 0.25, 0.5]}\n",
    "\n",
    "my_cv = TimeSeriesSplit(n_splits=6).split(f_train)\n",
    "\n",
    "gsearch = RandomizedSearchCV(estimator=model, cv=my_cv,\n",
    "                        param_distributions=param_search)\n",
    "gsearch.fit(f_train, t_train)"
   ]
  },
  {
   "cell_type": "code",
   "execution_count": 35,
   "id": "22fceb77",
   "metadata": {},
   "outputs": [
    {
     "data": {
      "text/plain": [
       "LGBMRegressor(max_depth=20, n_estimators=200, random_state=12345)"
      ]
     },
     "execution_count": 35,
     "metadata": {},
     "output_type": "execute_result"
    }
   ],
   "source": [
    "gsearch.best_estimator_"
   ]
  },
  {
   "cell_type": "code",
   "execution_count": 37,
   "id": "329ca163",
   "metadata": {},
   "outputs": [],
   "source": [
    "lgbm_model = gsearch.best_estimator_"
   ]
  },
  {
   "cell_type": "code",
   "execution_count": 38,
   "id": "299aa29e",
   "metadata": {},
   "outputs": [
    {
     "ename": "NotFittedError",
     "evalue": "Estimator not fitted, call fit before exploiting the model.",
     "output_type": "error",
     "traceback": [
      "\u001b[1;31m---------------------------------------------------------------------------\u001b[0m",
      "\u001b[1;31mNotFittedError\u001b[0m                            Traceback (most recent call last)",
      "Input \u001b[1;32mIn [38]\u001b[0m, in \u001b[0;36m<cell line: 1>\u001b[1;34m()\u001b[0m\n\u001b[1;32m----> 1\u001b[0m prediction_lgbm \u001b[38;5;241m=\u001b[39m \u001b[43mlgbm_model\u001b[49m\u001b[38;5;241;43m.\u001b[39;49m\u001b[43mpredict\u001b[49m\u001b[43m(\u001b[49m\u001b[43mf_train\u001b[49m\u001b[43m)\u001b[49m\n\u001b[0;32m      2\u001b[0m lgbm_rmse_tr \u001b[38;5;241m=\u001b[39m mean_squared_error(prediction_lgbm, t_train)\u001b[38;5;241m*\u001b[39m\u001b[38;5;241m*\u001b[39m\u001b[38;5;241m0.5\u001b[39m\n\u001b[0;32m      4\u001b[0m prediction_lgbm \u001b[38;5;241m=\u001b[39m lgbm_model\u001b[38;5;241m.\u001b[39mpredict(f_test)\n",
      "File \u001b[1;32m~\\anaconda3\\lib\\site-packages\\lightgbm\\sklearn.py:795\u001b[0m, in \u001b[0;36mLGBMModel.predict\u001b[1;34m(self, X, raw_score, start_iteration, num_iteration, pred_leaf, pred_contrib, **kwargs)\u001b[0m\n\u001b[0;32m    793\u001b[0m \u001b[38;5;124;03m\"\"\"Docstring is set after definition, using a template.\"\"\"\u001b[39;00m\n\u001b[0;32m    794\u001b[0m \u001b[38;5;28;01mif\u001b[39;00m \u001b[38;5;129;01mnot\u001b[39;00m \u001b[38;5;28mself\u001b[39m\u001b[38;5;241m.\u001b[39m__sklearn_is_fitted__():\n\u001b[1;32m--> 795\u001b[0m     \u001b[38;5;28;01mraise\u001b[39;00m LGBMNotFittedError(\u001b[38;5;124m\"\u001b[39m\u001b[38;5;124mEstimator not fitted, call fit before exploiting the model.\u001b[39m\u001b[38;5;124m\"\u001b[39m)\n\u001b[0;32m    796\u001b[0m \u001b[38;5;28;01mif\u001b[39;00m \u001b[38;5;129;01mnot\u001b[39;00m \u001b[38;5;28misinstance\u001b[39m(X, (pd_DataFrame, dt_DataTable)):\n\u001b[0;32m    797\u001b[0m     X \u001b[38;5;241m=\u001b[39m _LGBMCheckArray(X, accept_sparse\u001b[38;5;241m=\u001b[39m\u001b[38;5;28;01mTrue\u001b[39;00m, force_all_finite\u001b[38;5;241m=\u001b[39m\u001b[38;5;28;01mFalse\u001b[39;00m)\n",
      "\u001b[1;31mNotFittedError\u001b[0m: Estimator not fitted, call fit before exploiting the model."
     ]
    }
   ],
   "source": [
    "prediction_lgbm = lgbm_model.predict(f_train)\n",
    "lgbm_rmse_tr = mean_squared_error(prediction_lgbm, t_train)**0.5\n",
    "\n",
    "prediction_lgbm = lgbm_model.predict(f_test)\n",
    "lgbm_rmse = mean_squared_error(prediction_lgbm, t_test)**0.5\n",
    "\n",
    "print(\"RMSE тестовой выборки: \",lgbm_rmse)\n",
    "\n",
    "print(\"RMSE обучающей выборки: \",lgbm_rmse_tr)"
   ]
  },
  {
   "cell_type": "code",
   "execution_count": null,
   "id": "bd38f446",
   "metadata": {},
   "outputs": [],
   "source": []
  }
 ],
 "metadata": {
  "kernelspec": {
   "display_name": "Python 3 (ipykernel)",
   "language": "python",
   "name": "python3"
  },
  "language_info": {
   "codemirror_mode": {
    "name": "ipython",
    "version": 3
   },
   "file_extension": ".py",
   "mimetype": "text/x-python",
   "name": "python",
   "nbconvert_exporter": "python",
   "pygments_lexer": "ipython3",
   "version": "3.9.12"
  }
 },
 "nbformat": 4,
 "nbformat_minor": 5
}
